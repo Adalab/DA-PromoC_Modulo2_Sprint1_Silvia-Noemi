{
 "cells": [
  {
   "cell_type": "code",
   "execution_count": 1,
   "metadata": {},
   "outputs": [],
   "source": [
    "import numpy as np"
   ]
  },
  {
   "cell_type": "markdown",
   "metadata": {},
   "source": [
    "# Ejercicios Pair Programming - Módulo 2 Sprint 1\n",
    "## Lección 3 - Numpy III\n",
    "### Noemi Azorin y Silvia Gordón"
   ]
  },
  {
   "cell_type": "markdown",
   "metadata": {},
   "source": [
    "En esta lección hemos aprendido algunas de las operaciones matemáticas más importantes que podemos aplicar a un array. Hoy pondremos en práctica algunas de estas operaciones, además de recordar algunas de los métodos aprendidos en otras lecciones y recordar como podemos iterar por un array."
   ]
  },
  {
   "cell_type": "markdown",
   "metadata": {},
   "source": [
    "1.- Cread un array de tres dimensiones de 2 matrices, 3 filas y 5 columnas cuyos valores solo tengan 1 decimales. Sobre el array creado anteriormente, extraed:"
   ]
  },
  {
   "cell_type": "code",
   "execution_count": 2,
   "metadata": {},
   "outputs": [
    {
     "data": {
      "text/plain": [
       "array([[[0.35683279, 0.82852366, 0.0871282 , 0.66430834, 0.93817509],\n",
       "        [0.75080765, 0.57328837, 0.10572106, 0.91740083, 0.7618409 ],\n",
       "        [0.68431768, 0.10899114, 0.78522461, 0.71805323, 0.40286003]],\n",
       "\n",
       "       [[0.28928881, 0.45361226, 0.56614227, 0.34149525, 0.96749853],\n",
       "        [0.3498442 , 0.87764997, 0.71714796, 0.05621677, 0.48122878],\n",
       "        [0.51009615, 0.26089278, 0.7610507 , 0.31723764, 0.81912945]]])"
      ]
     },
     "execution_count": 2,
     "metadata": {},
     "output_type": "execute_result"
    }
   ],
   "source": [
    "array1 = np.random.rand(2,3,5)\n",
    "array1"
   ]
  },
  {
   "cell_type": "code",
   "execution_count": 3,
   "metadata": {},
   "outputs": [
    {
     "data": {
      "text/plain": [
       "array([[[0.4, 0.8, 0.1, 0.7, 0.9],\n",
       "        [0.8, 0.6, 0.1, 0.9, 0.8],\n",
       "        [0.7, 0.1, 0.8, 0.7, 0.4]],\n",
       "\n",
       "       [[0.3, 0.5, 0.6, 0.3, 1. ],\n",
       "        [0.3, 0.9, 0.7, 0.1, 0.5],\n",
       "        [0.5, 0.3, 0.8, 0.3, 0.8]]])"
      ]
     },
     "execution_count": 3,
     "metadata": {},
     "output_type": "execute_result"
    }
   ],
   "source": [
    "array1_redondeo = np.round(array1, decimals=1)\n",
    "array1_redondeo"
   ]
  },
  {
   "cell_type": "markdown",
   "metadata": {},
   "source": [
    "2.- Calculad la media del array y almacenarlos en una variable. Redondead a un decimal."
   ]
  },
  {
   "cell_type": "code",
   "execution_count": 7,
   "metadata": {},
   "outputs": [
    {
     "data": {
      "text/plain": [
       "0.6"
      ]
     },
     "execution_count": 7,
     "metadata": {},
     "output_type": "execute_result"
    }
   ],
   "source": [
    "media = np.round(np.mean(array1_redondeo),1)\n",
    "media"
   ]
  },
  {
   "cell_type": "markdown",
   "metadata": {},
   "source": [
    "3.- Calculad el valor máximo del array y almacenarlos en una variable. Redondead a un decimal."
   ]
  },
  {
   "cell_type": "code",
   "execution_count": 8,
   "metadata": {},
   "outputs": [
    {
     "data": {
      "text/plain": [
       "1.0"
      ]
     },
     "execution_count": 8,
     "metadata": {},
     "output_type": "execute_result"
    }
   ],
   "source": [
    "maximo = np.round(np.max(array1_redondeo),1)\n",
    "maximo"
   ]
  },
  {
   "cell_type": "markdown",
   "metadata": {},
   "source": [
    "4.- Calculad el valor mínimo del array y almacenarlos en una variable. Redondead a un decimal."
   ]
  },
  {
   "cell_type": "code",
   "execution_count": 9,
   "metadata": {},
   "outputs": [
    {
     "data": {
      "text/plain": [
       "0.1"
      ]
     },
     "execution_count": 9,
     "metadata": {},
     "output_type": "execute_result"
    }
   ],
   "source": [
    "minimo = np.round(np.min(array1_redondeo),1)\n",
    "minimo"
   ]
  },
  {
   "cell_type": "markdown",
   "metadata": {},
   "source": [
    "5.- Cread un array vacío con la misma forma y dimensiones que el array creado anteriormente.\n",
    "Vamos a reemplazar los valores de la matriz vacía que nos acabamos de crear pero basándonos en los valores del primer array bajo las siguientes condiciones:"
   ]
  },
  {
   "attachments": {},
   "cell_type": "markdown",
   "metadata": {},
   "source": [
    "Si el valor del array es igual que la media, se reemplaza por \"A\"."
   ]
  },
  {
   "cell_type": "markdown",
   "metadata": {},
   "source": [
    "Si el valor del array es mayor que la media, se reemplaza por \"B\"."
   ]
  },
  {
   "cell_type": "markdown",
   "metadata": {},
   "source": [
    "Si el valor del array es menor que la media, se reemplaza por \"C\"."
   ]
  },
  {
   "cell_type": "markdown",
   "metadata": {},
   "source": [
    "Si el valor es igual que el máximo, se reemplaza por \"D\"."
   ]
  },
  {
   "cell_type": "markdown",
   "metadata": {},
   "source": [
    "Si el valor es igual que el mínimo, se reemplaza por \"E\"."
   ]
  },
  {
   "cell_type": "code",
   "execution_count": 11,
   "metadata": {},
   "outputs": [
    {
     "data": {
      "text/plain": [
       "array([[['', '', '', '', ''],\n",
       "        ['', '', '', '', ''],\n",
       "        ['', '', '', '', '']],\n",
       "\n",
       "       [['', '', '', '', ''],\n",
       "        ['', '', '', '', ''],\n",
       "        ['', '', '', '', '']]], dtype='<U1')"
      ]
     },
     "execution_count": 11,
     "metadata": {},
     "output_type": "execute_result"
    }
   ],
   "source": [
    "# Creamos un array vacio de tipo String para ir reemplanzdo los valores del array orginal a este array.\n",
    "\n",
    "array_vacio = np.empty((2,3,5), dtype=str)\n",
    "array_vacio"
   ]
  },
  {
   "cell_type": "code",
   "execution_count": 21,
   "metadata": {},
   "outputs": [],
   "source": [
    "# Vamos a iterar por cada fila del array original y con el método any comprobamos si algún elemento cumple\n",
    "# las condiciones que le pasemos. Si las cumple, en el array vacío lo reemplazaremos por la letra.\n",
    "\n",
    "for a in array1_redondeo:\n",
    "    if np.any(array1_redondeo == media):\n",
    "        array_vacio[array1_redondeo == media] = \"A\"\n",
    "    elif np.any(array1_redondeo > media):\n",
    "        array_vacio[array1_redondeo > media] = \"B\"\n",
    "    elif np.any(array1_redondeo < media):\n",
    "        array_vacio[array1_redondeo < media] = \"C\"\n",
    "    elif np.any(array1_redondeo == maximo):\n",
    "        array_vacio[array1_redondeo == maximo] = \"D\"\n",
    "    elif np.any(array1_redondeo == minimo):\n",
    "        array_vacio[array1_redondeo == minimo] = \"E\""
   ]
  },
  {
   "cell_type": "code",
   "execution_count": 22,
   "metadata": {},
   "outputs": [
    {
     "data": {
      "text/plain": [
       "array([[[0.4, 0.8, 0.1, 0.7, 0.9],\n",
       "        [0.8, 0.6, 0.1, 0.9, 0.8],\n",
       "        [0.7, 0.1, 0.8, 0.7, 0.4]],\n",
       "\n",
       "       [[0.3, 0.5, 0.6, 0.3, 1. ],\n",
       "        [0.3, 0.9, 0.7, 0.1, 0.5],\n",
       "        [0.5, 0.3, 0.8, 0.3, 0.8]]])"
      ]
     },
     "execution_count": 22,
     "metadata": {},
     "output_type": "execute_result"
    }
   ],
   "source": [
    "# Mostramos el array original\n",
    "\n",
    "array1_redondeo"
   ]
  },
  {
   "cell_type": "code",
   "execution_count": 23,
   "metadata": {},
   "outputs": [
    {
     "data": {
      "text/plain": [
       "array([[['C', 'B', 'E', 'B', 'B'],\n",
       "        ['B', 'A', 'E', 'B', 'B'],\n",
       "        ['B', 'E', 'B', 'B', 'C']],\n",
       "\n",
       "       [['C', 'C', 'A', 'C', 'D'],\n",
       "        ['C', 'B', 'B', 'E', 'C'],\n",
       "        ['C', 'C', 'B', 'C', 'B']]], dtype='<U1')"
      ]
     },
     "execution_count": 23,
     "metadata": {},
     "output_type": "execute_result"
    }
   ],
   "source": [
    "# Mostramos el array con las letras que han reemplazado los valores.\n",
    "\n",
    "array_vacio"
   ]
  },
  {
   "cell_type": "markdown",
   "metadata": {},
   "source": [
    "6.- Estupendo, tenemos un array con strings. Ahora realizaremos un ejercicio similar al anterior, pero en este caso nos crearemos un array vacío unidimensional de 30 elementos. Al final de este ejercicio acabaremos teniendo un array de tres dimensiones con la misma forma que el primero que nos creamos."
   ]
  },
  {
   "cell_type": "code",
   "execution_count": 15,
   "metadata": {},
   "outputs": [
    {
     "data": {
      "text/plain": [
       "array([0.4, 0.8, 0.1, 0.7, 0.9, 0.8, 0.6, 0.1, 0.9, 0.8, 0.7, 0.1, 0.8,\n",
       "       0.7, 0.4, 0.3, 0.5, 0.6, 0.3, 1. , 0.3, 0.9, 0.7, 0.1, 0.5, 0.5,\n",
       "       0.3, 0.8, 0.3, 0.8])"
      ]
     },
     "execution_count": 15,
     "metadata": {},
     "output_type": "execute_result"
    }
   ],
   "source": [
    "# Creamos un array vacío con 30 elementos.\n",
    "\n",
    "array_vacio2 = np.empty(30)\n",
    "array_vacio2"
   ]
  },
  {
   "cell_type": "markdown",
   "metadata": {},
   "source": [
    "Si el valor del array creado en el ejercicio anterior es \"A\" o \"B\" lo reemplazaremos por 1"
   ]
  },
  {
   "cell_type": "markdown",
   "metadata": {},
   "source": [
    "Si el valor del array creado en el ejercicio anterior es \"C\" o \"D\" lo reemplazaremos por 2"
   ]
  },
  {
   "cell_type": "markdown",
   "metadata": {},
   "source": [
    "Si el valor del array creado en el ejercicio anterior es \"E\" lo reemplazaremos por 3."
   ]
  },
  {
   "cell_type": "code",
   "execution_count": 17,
   "metadata": {},
   "outputs": [
    {
     "data": {
      "text/plain": [
       "array(['C', 'B', 'E', 'B', 'B', 'B', 'A', 'E', 'B', 'B', 'B', 'E', 'B',\n",
       "       'B', 'C', 'C', 'C', 'A', 'C', 'D', 'C', 'B', 'B', 'E', 'C', 'C',\n",
       "       'C', 'B', 'C', 'B'], dtype='<U1')"
      ]
     },
     "execution_count": 17,
     "metadata": {},
     "output_type": "execute_result"
    }
   ],
   "source": [
    "# Convertimos la dimensión de nuestro array de letras para que tenga la misma forma que el nuevo array.\n",
    "# Los dos ahora serán unidimensionales.\n",
    "\n",
    "array_vacio_letras = np.reshape(array_vacio, 30)\n",
    "array_vacio_letras"
   ]
  },
  {
   "cell_type": "code",
   "execution_count": 24,
   "metadata": {},
   "outputs": [],
   "source": [
    "# Vamos a iterar por cada fila del array de letras y con el método any comprobamos si algún elemento cumple\n",
    "# las condiciones que le pasemos. Si las cumple, en el array vacío lo reemplazaremos por el número.\n",
    "\n",
    "for a in array_vacio_letras:\n",
    "    if np.any(array_vacio_letras == \"A\") | np.any(array_vacio_letras == \"B\"):\n",
    "        array_vacio2[(array_vacio_letras == \"A\") | (array_vacio_letras == \"B\")] = 1 \n",
    "    elif np.any(array_vacio_letras == \"C\") | np.any(array_vacio_letras == \"D\"):\n",
    "        array_vacio2[(array_vacio_letras == \"C\") | (array_vacio_letras == \"D\")] = 2\n",
    "    elif np.any(array_vacio_letras == \"E\"):\n",
    "        array_vacio2[array_vacio_letras == \"E\"] = 3 "
   ]
  },
  {
   "cell_type": "code",
   "execution_count": 25,
   "metadata": {},
   "outputs": [
    {
     "data": {
      "text/plain": [
       "array([2., 1., 3., 1., 1., 1., 1., 3., 1., 1., 1., 3., 1., 1., 2., 2., 2.,\n",
       "       1., 2., 2., 2., 1., 1., 3., 2., 2., 2., 1., 2., 1.])"
      ]
     },
     "execution_count": 25,
     "metadata": {},
     "output_type": "execute_result"
    }
   ],
   "source": [
    "# Mostramos el array vacío unidimensional con los elementos sustituidos.\n",
    "\n",
    "array_vacio2"
   ]
  },
  {
   "cell_type": "markdown",
   "metadata": {},
   "source": [
    "Una vez que hayas reemplazado todos los valores cambiad la forma del array para que sea de tres dimensiones, con 2 matrices, 3 filas y 5 columnas."
   ]
  },
  {
   "cell_type": "code",
   "execution_count": 26,
   "metadata": {},
   "outputs": [
    {
     "data": {
      "text/plain": [
       "array([[[2., 1., 3., 1., 1.],\n",
       "        [1., 1., 3., 1., 1.],\n",
       "        [1., 3., 1., 1., 2.]],\n",
       "\n",
       "       [[2., 2., 1., 2., 2.],\n",
       "        [2., 1., 1., 3., 2.],\n",
       "        [2., 2., 1., 2., 1.]]])"
      ]
     },
     "execution_count": 26,
     "metadata": {},
     "output_type": "execute_result"
    }
   ],
   "source": [
    "# Cambiamos la forma de nuestro array unidimensional a multidimensional.\n",
    "\n",
    "array_vacio3 = np.reshape(array_vacio2, (2,3,5))\n",
    "array_vacio3"
   ]
  },
  {
   "cell_type": "markdown",
   "metadata": {},
   "source": [
    "Happy coding 😀"
   ]
  }
 ],
 "metadata": {
  "kernelspec": {
   "display_name": "Python 3.10.8 64-bit",
   "language": "python",
   "name": "python3"
  },
  "language_info": {
   "codemirror_mode": {
    "name": "ipython",
    "version": 3
   },
   "file_extension": ".py",
   "mimetype": "text/x-python",
   "name": "python",
   "nbconvert_exporter": "python",
   "pygments_lexer": "ipython3",
   "version": "3.10.8"
  },
  "orig_nbformat": 4,
  "vscode": {
   "interpreter": {
    "hash": "b09caf96bf0d00c87bf22d52d5d9b835bbcda673d84b7b1547b87932947942a4"
   }
  }
 },
 "nbformat": 4,
 "nbformat_minor": 2
}

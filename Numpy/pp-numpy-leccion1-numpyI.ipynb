{
 "cells": [
  {
   "cell_type": "markdown",
   "metadata": {},
   "source": [
    "# Ejercicios Pair Programming - Módulo 2 Sprint 1\n",
    "## Lección 1 - Numpy I - Introducción a Numpy\n",
    "### Noemi Azorin y Silvia Gordón"
   ]
  },
  {
   "cell_type": "markdown",
   "metadata": {},
   "source": [
    "En el ejercicio de hoy vamos a empezar a trabajar con NumPy. El objetivo de estos ejericicios es que creeis una serie de arrays, y hagáis una serie de operaciones matemáticas con ellos."
   ]
  },
  {
   "cell_type": "code",
   "execution_count": 1,
   "metadata": {},
   "outputs": [],
   "source": [
    "import numpy as np"
   ]
  },
  {
   "cell_type": "markdown",
   "metadata": {},
   "source": [
    "1.- Cread tres arrays: de una, dos y tres dimensiones.\n",
    "\n",
    "Lo podéis hacer usando los métodos de random que hemos aprendido o a través de listas em algunos casos.\n",
    "📌 Nota\n",
    "\n",
    "El array de 2 dimensiones debe ser de 2 filas y 3 columnas\n",
    "\n",
    "El array de 3 dimensiones debe ser de 2 matrices, 3 filas y 5 columnas"
   ]
  },
  {
   "cell_type": "code",
   "execution_count": 2,
   "metadata": {},
   "outputs": [
    {
     "data": {
      "text/plain": [
       "array([99])"
      ]
     },
     "execution_count": 2,
     "metadata": {},
     "output_type": "execute_result"
    }
   ],
   "source": [
    "array1 = np.random.randint(0,100, (1))\n",
    "array1"
   ]
  },
  {
   "cell_type": "code",
   "execution_count": 3,
   "metadata": {},
   "outputs": [
    {
     "data": {
      "text/plain": [
       "array([[47,  4, 34],\n",
       "       [50,  3, 56]])"
      ]
     },
     "execution_count": 3,
     "metadata": {},
     "output_type": "execute_result"
    }
   ],
   "source": [
    "array2 = np.random.randint(0,100, (2,3))\n",
    "array2"
   ]
  },
  {
   "cell_type": "code",
   "execution_count": 4,
   "metadata": {},
   "outputs": [
    {
     "data": {
      "text/plain": [
       "array([[[21, 82, 33,  5, 85],\n",
       "        [70, 39, 57, 39, 83],\n",
       "        [ 8, 95, 38, 16, 75]],\n",
       "\n",
       "       [[70, 41, 55, 91, 96],\n",
       "        [94, 35,  8, 52, 46],\n",
       "        [15, 34, 91, 40, 36]]])"
      ]
     },
     "execution_count": 4,
     "metadata": {},
     "output_type": "execute_result"
    }
   ],
   "source": [
    "array3 = np.random.randint(0,100, (2,3,5))\n",
    "array3"
   ]
  },
  {
   "cell_type": "markdown",
   "metadata": {},
   "source": [
    "2.- Chequead las las propiedades básicas de cada array que os hayáis creado. Usad en una función que nos devuelva las propiedades de una array que le pasemos."
   ]
  },
  {
   "cell_type": "code",
   "execution_count": 5,
   "metadata": {},
   "outputs": [],
   "source": [
    "def propiedades_array(array):\n",
    "    print(f\"La forma de este array: {array} es: {array.shape}\")\n",
    "    print(f\"La dimensión de este array: {array} es: {array.ndim}\")\n",
    "    print(f\"El tamaño de este array: {array} es: {array.size}\")\n",
    "    print(f\"El tipo de datos de este array: {array} es: {array.dtype}\")"
   ]
  },
  {
   "cell_type": "code",
   "execution_count": 6,
   "metadata": {},
   "outputs": [
    {
     "name": "stdout",
     "output_type": "stream",
     "text": [
      "La forma de este array: [99] es: (1,)\n",
      "La dimensión de este array: [99] es: 1\n",
      "El tamaño de este array: [99] es: 1\n",
      "El tipo de datos de este array: [99] es: int64\n"
     ]
    }
   ],
   "source": [
    "# Llamada a la función para el array1\n",
    "propiedades_array(array1)"
   ]
  },
  {
   "cell_type": "code",
   "execution_count": 7,
   "metadata": {},
   "outputs": [
    {
     "name": "stdout",
     "output_type": "stream",
     "text": [
      "La forma de este array: [[47  4 34]\n",
      " [50  3 56]] es: (2, 3)\n",
      "La dimensión de este array: [[47  4 34]\n",
      " [50  3 56]] es: 2\n",
      "El tamaño de este array: [[47  4 34]\n",
      " [50  3 56]] es: 6\n",
      "El tipo de datos de este array: [[47  4 34]\n",
      " [50  3 56]] es: int64\n"
     ]
    }
   ],
   "source": [
    "# Llamada a la función para el array2\n",
    "propiedades_array(array2)"
   ]
  },
  {
   "cell_type": "code",
   "execution_count": 8,
   "metadata": {},
   "outputs": [
    {
     "name": "stdout",
     "output_type": "stream",
     "text": [
      "La forma de este array: [[[21 82 33  5 85]\n",
      "  [70 39 57 39 83]\n",
      "  [ 8 95 38 16 75]]\n",
      "\n",
      " [[70 41 55 91 96]\n",
      "  [94 35  8 52 46]\n",
      "  [15 34 91 40 36]]] es: (2, 3, 5)\n",
      "La dimensión de este array: [[[21 82 33  5 85]\n",
      "  [70 39 57 39 83]\n",
      "  [ 8 95 38 16 75]]\n",
      "\n",
      " [[70 41 55 91 96]\n",
      "  [94 35  8 52 46]\n",
      "  [15 34 91 40 36]]] es: 3\n",
      "El tamaño de este array: [[[21 82 33  5 85]\n",
      "  [70 39 57 39 83]\n",
      "  [ 8 95 38 16 75]]\n",
      "\n",
      " [[70 41 55 91 96]\n",
      "  [94 35  8 52 46]\n",
      "  [15 34 91 40 36]]] es: 30\n",
      "El tipo de datos de este array: [[[21 82 33  5 85]\n",
      "  [70 39 57 39 83]\n",
      "  [ 8 95 38 16 75]]\n",
      "\n",
      " [[70 41 55 91 96]\n",
      "  [94 35  8 52 46]\n",
      "  [15 34 91 40 36]]] es: int64\n"
     ]
    }
   ],
   "source": [
    "# Llamada a la función para el array3\n",
    "propiedades_array(array3)"
   ]
  },
  {
   "cell_type": "markdown",
   "metadata": {},
   "source": [
    "3.- Cread una matriz identidad de dos dimensiones de 3 filas y 3 columnas"
   ]
  },
  {
   "cell_type": "code",
   "execution_count": 13,
   "metadata": {},
   "outputs": [
    {
     "data": {
      "text/plain": [
       "array([[1., 0., 0.],\n",
       "       [0., 1., 0.],\n",
       "       [0., 0., 1.]])"
      ]
     },
     "execution_count": 13,
     "metadata": {},
     "output_type": "execute_result"
    }
   ],
   "source": [
    "matriz_identidad = np.identity(3)\n",
    "matriz_identidad"
   ]
  },
  {
   "cell_type": "markdown",
   "metadata": {},
   "source": [
    "4.- Cread una matriz de tres dimensiones de unos igual a la martiz de tres dimensiones creada en el primer ejercicio."
   ]
  },
  {
   "cell_type": "code",
   "execution_count": 11,
   "metadata": {},
   "outputs": [
    {
     "data": {
      "text/plain": [
       "array([[[1, 1, 1, 1, 1],\n",
       "        [1, 1, 1, 1, 1],\n",
       "        [1, 1, 1, 1, 1]],\n",
       "\n",
       "       [[1, 1, 1, 1, 1],\n",
       "        [1, 1, 1, 1, 1],\n",
       "        [1, 1, 1, 1, 1]]])"
      ]
     },
     "execution_count": 11,
     "metadata": {},
     "output_type": "execute_result"
    }
   ],
   "source": [
    "matriz_unos = np.ones_like(array3)\n",
    "matriz_unos"
   ]
  },
  {
   "cell_type": "markdown",
   "metadata": {},
   "source": [
    "5.- Es el momento de hacer algunas operaciones entre arrays\n",
    "\n",
    "¿Se puede sumar el array de dos dimensiones que creamos en el primer ejecicios a la matriz identidad? ¿Por qué?"
   ]
  },
  {
   "cell_type": "markdown",
   "metadata": {},
   "source": [
    "No, porque tiene que tener el mismo número de filas y columnas"
   ]
  },
  {
   "cell_type": "markdown",
   "metadata": {},
   "source": [
    "En caso de que no se puedan sumar, busca una solución para sumar una matriz identidad a otra. La solución puede ser crear un array nuevo."
   ]
  },
  {
   "cell_type": "code",
   "execution_count": 14,
   "metadata": {},
   "outputs": [
    {
     "data": {
      "text/plain": [
       "array([[1., 0., 0.],\n",
       "       [0., 1., 0.],\n",
       "       [0., 0., 1.]])"
      ]
     },
     "execution_count": 14,
     "metadata": {},
     "output_type": "execute_result"
    }
   ],
   "source": [
    "matriz_identidad2= np.identity(3)\n",
    "matriz_identidad2"
   ]
  },
  {
   "cell_type": "code",
   "execution_count": 18,
   "metadata": {},
   "outputs": [
    {
     "data": {
      "text/plain": [
       "array([[2., 0., 0.],\n",
       "       [0., 2., 0.],\n",
       "       [0., 0., 2.]])"
      ]
     },
     "execution_count": 18,
     "metadata": {},
     "output_type": "execute_result"
    }
   ],
   "source": [
    "matriz_identidad_suma = np.add(matriz_identidad,matriz_identidad2)\n",
    "matriz_identidad_suma"
   ]
  },
  {
   "cell_type": "markdown",
   "metadata": {},
   "source": [
    "Multiplicad la matriz identidad por la nueva matriz que os creasteis en el ejercicio anterior."
   ]
  },
  {
   "cell_type": "code",
   "execution_count": 20,
   "metadata": {},
   "outputs": [
    {
     "data": {
      "text/plain": [
       "array([[2., 0., 0.],\n",
       "       [0., 2., 0.],\n",
       "       [0., 0., 2.]])"
      ]
     },
     "execution_count": 20,
     "metadata": {},
     "output_type": "execute_result"
    }
   ],
   "source": [
    "matriz_identidad_multiplicacion = np.multiply(matriz_identidad,matriz_identidad_suma)\n",
    "matriz_identidad_multiplicacion"
   ]
  },
  {
   "cell_type": "markdown",
   "metadata": {},
   "source": [
    "Dividid las dos matricess"
   ]
  },
  {
   "cell_type": "code",
   "execution_count": 23,
   "metadata": {},
   "outputs": [
    {
     "name": "stderr",
     "output_type": "stream",
     "text": [
      "/tmp/ipykernel_216/3817947262.py:1: RuntimeWarning: invalid value encountered in divide\n",
      "  matriz_identidad_division = np.divide(matriz_identidad,matriz_identidad_suma)\n"
     ]
    },
    {
     "data": {
      "text/plain": [
       "array([[0.5, nan, nan],\n",
       "       [nan, 0.5, nan],\n",
       "       [nan, nan, 0.5]])"
      ]
     },
     "execution_count": 23,
     "metadata": {},
     "output_type": "execute_result"
    }
   ],
   "source": [
    "matriz_identidad_division = np.divide(matriz_identidad,matriz_identidad_suma)\n",
    "matriz_identidad_division\n",
    "\n",
    "# La división entre las matrices me devuelve solo el resultado de la diagonal que es donde hay valores\n",
    "# con los que se puede operar."
   ]
  }
 ],
 "metadata": {
  "kernelspec": {
   "display_name": "Python 3.10.8 64-bit (microsoft store)",
   "language": "python",
   "name": "python3"
  },
  "language_info": {
   "codemirror_mode": {
    "name": "ipython",
    "version": 3
   },
   "file_extension": ".py",
   "mimetype": "text/x-python",
   "name": "python",
   "nbconvert_exporter": "python",
   "pygments_lexer": "ipython3",
   "version": "3.10.8"
  },
  "orig_nbformat": 4,
  "vscode": {
   "interpreter": {
    "hash": "74ce4e106c5f3fb5408a2b59926dbdd162e96cafe5f5c54fb66c999b373c7a81"
   }
  }
 },
 "nbformat": 4,
 "nbformat_minor": 2
}

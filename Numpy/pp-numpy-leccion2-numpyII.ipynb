{
 "cells": [
  {
   "cell_type": "markdown",
   "metadata": {},
   "source": [
    "# Ejercicios Pair Programming - Módulo 2 Sprint 1\n",
    "## Lección 2 - Numpy II - Indexación\n",
    "### Noemi Azorin y Silvia Gordón"
   ]
  },
  {
   "cell_type": "markdown",
   "metadata": {},
   "source": [
    "Seguimos trabajando con NumPy, en este caso practicaremos como acceder a distintos elementos de nuestros arrays y como cambiar su forma para poder hacer operaciones entre varios arrays."
   ]
  },
  {
   "cell_type": "markdown",
   "metadata": {},
   "source": [
    "1 - Cread un array de dos dimensiones de 5 filas y 3 columnas. Sobre el array creado anteriormente, extraed:\n",
    "- El valor de la primera fila y la segunda columna.\n",
    "- Los valores de la segunda fila y las dos primeras columnas.\n",
    "- Extraed las filas pares (incluyendo la 0) y todas las columnas.\n",
    "- Extraed los valores que sean mayores que 0.5.\n",
    "- Extraed los valores menores que 0.2 o mayores que 0.5"
   ]
  },
  {
   "cell_type": "code",
   "execution_count": null,
   "metadata": {},
   "outputs": [],
   "source": []
  },
  {
   "cell_type": "markdown",
   "metadata": {},
   "source": [
    "2 - Cread dos array de tres dimensiones:\n",
    "- El primero de 2 matrices, 5 filas y 3 columnas.\n",
    "- El segundo de 3 matrices, 2 filas y 5 columnas\n",
    "- Haced un análisis exploratorio de los array creados. Recordad que en el ejercicio de ayer nos creamos una función para esto.\n",
    "- Sumad los dos arrays. ¿Podéis? ¿Por qué?\n",
    "- Para cambiar la forma de un array y poder hacer operaciones entre arrays que tienen distintas formas hemos aprendido dos métodos:\n",
    "    .reshape()\n",
    "    .transpose()\n",
    "- Utiliza estas dos funciones para cambiar la forma de los array y hacer operaciones entre ellos."
   ]
  },
  {
   "cell_type": "code",
   "execution_count": null,
   "metadata": {},
   "outputs": [],
   "source": []
  }
 ],
 "metadata": {
  "kernelspec": {
   "display_name": "Python 3.10.8 64-bit (microsoft store)",
   "language": "python",
   "name": "python3"
  },
  "language_info": {
   "name": "python",
   "version": "3.10.8"
  },
  "orig_nbformat": 4,
  "vscode": {
   "interpreter": {
    "hash": "74ce4e106c5f3fb5408a2b59926dbdd162e96cafe5f5c54fb66c999b373c7a81"
   }
  }
 },
 "nbformat": 4,
 "nbformat_minor": 2
}

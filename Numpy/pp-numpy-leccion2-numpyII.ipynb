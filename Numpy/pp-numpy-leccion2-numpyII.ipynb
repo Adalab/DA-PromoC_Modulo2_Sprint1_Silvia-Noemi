{
 "cells": [
  {
   "cell_type": "markdown",
   "metadata": {},
   "source": [
    "# Ejercicios Pair Programming - Módulo 2 Sprint 1\n",
    "## Lección 2 - Numpy II - Indexación\n",
    "### Noemi Azorin y Silvia Gordón"
   ]
  },
  {
   "cell_type": "markdown",
   "metadata": {},
   "source": [
    "Seguimos trabajando con NumPy, en este caso practicaremos como acceder a distintos elementos de nuestros arrays y como cambiar su forma para poder hacer operaciones entre varios arrays."
   ]
  },
  {
   "cell_type": "markdown",
   "metadata": {},
   "source": [
    "1 - Cread un array de dos dimensiones de 5 filas y 3 columnas. Sobre el array creado anteriormente, extraed:"
   ]
  },
  {
   "cell_type": "code",
   "execution_count": 1,
   "metadata": {},
   "outputs": [],
   "source": [
    "import numpy as np"
   ]
  },
  {
   "cell_type": "code",
   "execution_count": 2,
   "metadata": {},
   "outputs": [
    {
     "data": {
      "text/plain": [
       "array([[0, 6, 2],\n",
       "       [7, 5, 5],\n",
       "       [9, 8, 3],\n",
       "       [1, 1, 3],\n",
       "       [0, 2, 9]])"
      ]
     },
     "execution_count": 2,
     "metadata": {},
     "output_type": "execute_result"
    }
   ],
   "source": [
    "array = np.random.randint(0,10,(5,3))\n",
    "array"
   ]
  },
  {
   "cell_type": "markdown",
   "metadata": {},
   "source": [
    "- El valor de la primera fila y la segunda columna."
   ]
  },
  {
   "cell_type": "code",
   "execution_count": 3,
   "metadata": {},
   "outputs": [
    {
     "data": {
      "text/plain": [
       "6"
      ]
     },
     "execution_count": 3,
     "metadata": {},
     "output_type": "execute_result"
    }
   ],
   "source": [
    "array[0,1]"
   ]
  },
  {
   "cell_type": "markdown",
   "metadata": {},
   "source": [
    "- Los valores de la segunda fila y las dos primeras columnas."
   ]
  },
  {
   "cell_type": "code",
   "execution_count": 4,
   "metadata": {},
   "outputs": [
    {
     "data": {
      "text/plain": [
       "array([7, 5])"
      ]
     },
     "execution_count": 4,
     "metadata": {},
     "output_type": "execute_result"
    }
   ],
   "source": [
    "array[1,0:2]"
   ]
  },
  {
   "cell_type": "markdown",
   "metadata": {},
   "source": [
    "- Extraed las filas pares (incluyendo la 0) y todas las columnas."
   ]
  },
  {
   "cell_type": "code",
   "execution_count": 10,
   "metadata": {},
   "outputs": [
    {
     "data": {
      "text/plain": [
       "array([[0, 6, 2],\n",
       "       [9, 8, 3],\n",
       "       [0, 2, 9]])"
      ]
     },
     "execution_count": 10,
     "metadata": {},
     "output_type": "execute_result"
    }
   ],
   "source": [
    "array[::2]"
   ]
  },
  {
   "cell_type": "markdown",
   "metadata": {},
   "source": [
    "- Extraed los valores que sean mayores que 0.5."
   ]
  },
  {
   "cell_type": "code",
   "execution_count": 11,
   "metadata": {},
   "outputs": [
    {
     "data": {
      "text/plain": [
       "array([6, 2, 7, 5, 5, 9, 8, 3, 1, 1, 3, 2, 9])"
      ]
     },
     "execution_count": 11,
     "metadata": {},
     "output_type": "execute_result"
    }
   ],
   "source": [
    "array[array > 0.5]"
   ]
  },
  {
   "cell_type": "markdown",
   "metadata": {},
   "source": [
    "- Extraed los valores menores que 0.2 o mayores que 0.5"
   ]
  },
  {
   "cell_type": "code",
   "execution_count": 12,
   "metadata": {},
   "outputs": [
    {
     "data": {
      "text/plain": [
       "array([0, 6, 2, 7, 5, 5, 9, 8, 3, 1, 1, 3, 0, 2, 9])"
      ]
     },
     "execution_count": 12,
     "metadata": {},
     "output_type": "execute_result"
    }
   ],
   "source": [
    "array[(array < 0.2) | (array > 0.5)]"
   ]
  },
  {
   "cell_type": "markdown",
   "metadata": {},
   "source": [
    "2 - Cread dos array de tres dimensiones:\n",
    "- El primero de 2 matrices, 5 filas y 3 columnas."
   ]
  },
  {
   "cell_type": "code",
   "execution_count": 14,
   "metadata": {},
   "outputs": [
    {
     "data": {
      "text/plain": [
       "array([[[3, 1, 1],\n",
       "        [3, 8, 5],\n",
       "        [4, 0, 0],\n",
       "        [8, 9, 8],\n",
       "        [5, 0, 4]],\n",
       "\n",
       "       [[2, 8, 0],\n",
       "        [4, 0, 0],\n",
       "        [7, 7, 7],\n",
       "        [2, 9, 9],\n",
       "        [0, 1, 2]]])"
      ]
     },
     "execution_count": 14,
     "metadata": {},
     "output_type": "execute_result"
    }
   ],
   "source": [
    "array1 = np.random.randint(0,10, (2,5,3))\n",
    "array1"
   ]
  },
  {
   "cell_type": "markdown",
   "metadata": {},
   "source": [
    "- El segundo de 3 matrices, 2 filas y 5 columnas"
   ]
  },
  {
   "cell_type": "code",
   "execution_count": 15,
   "metadata": {},
   "outputs": [
    {
     "data": {
      "text/plain": [
       "array([[[5, 2, 4, 6, 6],\n",
       "        [3, 0, 6, 5, 6]],\n",
       "\n",
       "       [[9, 4, 6, 7, 5],\n",
       "        [6, 2, 1, 4, 4]],\n",
       "\n",
       "       [[2, 0, 4, 5, 7],\n",
       "        [7, 4, 0, 8, 5]]])"
      ]
     },
     "execution_count": 15,
     "metadata": {},
     "output_type": "execute_result"
    }
   ],
   "source": [
    "array2 = np.random.randint(0,10, (3,2,5))\n",
    "array2"
   ]
  },
  {
   "cell_type": "markdown",
   "metadata": {},
   "source": [
    "- Haced un análisis exploratorio de los array creados. Recordad que en el ejercicio de ayer nos creamos una función para esto."
   ]
  },
  {
   "cell_type": "code",
   "execution_count": 16,
   "metadata": {},
   "outputs": [],
   "source": [
    "def propiedades_array(array):\n",
    "    print(f\"La forma de este array: {array} es: {array.shape}\")\n",
    "    print(f\"La dimensión de este array: {array} es: {array.ndim}\")\n",
    "    print(f\"El tamaño de este array: {array} es: {array.size}\")\n",
    "    print(f\"El tipo de datos de este array: {array} es: {array.dtype}\")"
   ]
  },
  {
   "cell_type": "code",
   "execution_count": 17,
   "metadata": {},
   "outputs": [
    {
     "name": "stdout",
     "output_type": "stream",
     "text": [
      "La forma de este array: [[[3 1 1]\n",
      "  [3 8 5]\n",
      "  [4 0 0]\n",
      "  [8 9 8]\n",
      "  [5 0 4]]\n",
      "\n",
      " [[2 8 0]\n",
      "  [4 0 0]\n",
      "  [7 7 7]\n",
      "  [2 9 9]\n",
      "  [0 1 2]]] es: (2, 5, 3)\n",
      "La dimensión de este array: [[[3 1 1]\n",
      "  [3 8 5]\n",
      "  [4 0 0]\n",
      "  [8 9 8]\n",
      "  [5 0 4]]\n",
      "\n",
      " [[2 8 0]\n",
      "  [4 0 0]\n",
      "  [7 7 7]\n",
      "  [2 9 9]\n",
      "  [0 1 2]]] es: 3\n",
      "El tamaño de este array: [[[3 1 1]\n",
      "  [3 8 5]\n",
      "  [4 0 0]\n",
      "  [8 9 8]\n",
      "  [5 0 4]]\n",
      "\n",
      " [[2 8 0]\n",
      "  [4 0 0]\n",
      "  [7 7 7]\n",
      "  [2 9 9]\n",
      "  [0 1 2]]] es: 30\n",
      "El tipo de datos de este array: [[[3 1 1]\n",
      "  [3 8 5]\n",
      "  [4 0 0]\n",
      "  [8 9 8]\n",
      "  [5 0 4]]\n",
      "\n",
      " [[2 8 0]\n",
      "  [4 0 0]\n",
      "  [7 7 7]\n",
      "  [2 9 9]\n",
      "  [0 1 2]]] es: int32\n"
     ]
    }
   ],
   "source": [
    "propiedades_array(array1)"
   ]
  },
  {
   "cell_type": "code",
   "execution_count": 18,
   "metadata": {},
   "outputs": [
    {
     "name": "stdout",
     "output_type": "stream",
     "text": [
      "La forma de este array: [[[5 2 4 6 6]\n",
      "  [3 0 6 5 6]]\n",
      "\n",
      " [[9 4 6 7 5]\n",
      "  [6 2 1 4 4]]\n",
      "\n",
      " [[2 0 4 5 7]\n",
      "  [7 4 0 8 5]]] es: (3, 2, 5)\n",
      "La dimensión de este array: [[[5 2 4 6 6]\n",
      "  [3 0 6 5 6]]\n",
      "\n",
      " [[9 4 6 7 5]\n",
      "  [6 2 1 4 4]]\n",
      "\n",
      " [[2 0 4 5 7]\n",
      "  [7 4 0 8 5]]] es: 3\n",
      "El tamaño de este array: [[[5 2 4 6 6]\n",
      "  [3 0 6 5 6]]\n",
      "\n",
      " [[9 4 6 7 5]\n",
      "  [6 2 1 4 4]]\n",
      "\n",
      " [[2 0 4 5 7]\n",
      "  [7 4 0 8 5]]] es: 30\n",
      "El tipo de datos de este array: [[[5 2 4 6 6]\n",
      "  [3 0 6 5 6]]\n",
      "\n",
      " [[9 4 6 7 5]\n",
      "  [6 2 1 4 4]]\n",
      "\n",
      " [[2 0 4 5 7]\n",
      "  [7 4 0 8 5]]] es: int32\n"
     ]
    }
   ],
   "source": [
    "propiedades_array(array2)"
   ]
  },
  {
   "cell_type": "markdown",
   "metadata": {},
   "source": [
    "- Sumad los dos arrays. ¿Podéis? ¿Por qué?"
   ]
  },
  {
   "cell_type": "code",
   "execution_count": 19,
   "metadata": {},
   "outputs": [
    {
     "ename": "ValueError",
     "evalue": "operands could not be broadcast together with shapes (2,5,3) (3,2,5) ",
     "output_type": "error",
     "traceback": [
      "\u001b[1;31m---------------------------------------------------------------------------\u001b[0m",
      "\u001b[1;31mValueError\u001b[0m                                Traceback (most recent call last)",
      "Cell \u001b[1;32mIn [19], line 2\u001b[0m\n\u001b[0;32m      1\u001b[0m \u001b[39m#intento de suma de los dos arrays creados anteriormente\u001b[39;00m\n\u001b[1;32m----> 2\u001b[0m array_suma \u001b[39m=\u001b[39m array1 \u001b[39m+\u001b[39;49m array2\n\u001b[0;32m      3\u001b[0m array_suma\n",
      "\u001b[1;31mValueError\u001b[0m: operands could not be broadcast together with shapes (2,5,3) (3,2,5) "
     ]
    }
   ],
   "source": [
    "#intento de suma de los dos arrays creados anteriormente\n",
    "array_suma = array1 + array2\n",
    "array_suma"
   ]
  },
  {
   "cell_type": "markdown",
   "metadata": {},
   "source": [
    "Como podemos observar, no podemos sumar los arrays, ya que presentan distintas matrices."
   ]
  },
  {
   "cell_type": "markdown",
   "metadata": {},
   "source": [
    "- Para cambiar la forma de un array y poder hacer operaciones entre arrays que tienen distintas formas hemos aprendido dos métodos:\n",
    "    .reshape()\n",
    "    .transpose()\n",
    "- Utiliza estas dos funciones para cambiar la forma de los array y hacer operaciones entre ellos."
   ]
  },
  {
   "cell_type": "code",
   "execution_count": 22,
   "metadata": {},
   "outputs": [
    {
     "data": {
      "text/plain": [
       "array([[[3, 1, 1, 3, 8],\n",
       "        [5, 4, 0, 0, 8]],\n",
       "\n",
       "       [[9, 8, 5, 0, 4],\n",
       "        [2, 8, 0, 4, 0]],\n",
       "\n",
       "       [[0, 7, 7, 7, 2],\n",
       "        [9, 9, 0, 1, 2]]])"
      ]
     },
     "execution_count": 22,
     "metadata": {},
     "output_type": "execute_result"
    }
   ],
   "source": [
    "#intentamos modificar una matriz para poder sumar. \n",
    "#Utilizamos primero el método .reshape():\n",
    "\n",
    "intento_reshape = np.reshape(array1,(3,2,5))\n",
    "intento_reshape"
   ]
  },
  {
   "cell_type": "code",
   "execution_count": 23,
   "metadata": {},
   "outputs": [
    {
     "data": {
      "text/plain": [
       "array([[[ 8,  3,  5,  9, 14],\n",
       "        [ 8,  4,  6,  5, 14]],\n",
       "\n",
       "       [[18, 12, 11,  7,  9],\n",
       "        [ 8, 10,  1,  8,  4]],\n",
       "\n",
       "       [[ 2,  7, 11, 12,  9],\n",
       "        [16, 13,  0,  9,  7]]])"
      ]
     },
     "execution_count": 23,
     "metadata": {},
     "output_type": "execute_result"
    }
   ],
   "source": [
    "#ahora procedemos a la suma:\n",
    "array_suma2 = array2 + intento_reshape\n",
    "array_suma2"
   ]
  },
  {
   "cell_type": "code",
   "execution_count": 24,
   "metadata": {},
   "outputs": [
    {
     "data": {
      "text/plain": [
       "array([[[3, 3, 4, 8, 5],\n",
       "        [2, 4, 7, 2, 0]],\n",
       "\n",
       "       [[1, 8, 0, 9, 0],\n",
       "        [8, 0, 7, 9, 1]],\n",
       "\n",
       "       [[1, 5, 0, 8, 4],\n",
       "        [0, 0, 7, 9, 2]]])"
      ]
     },
     "execution_count": 24,
     "metadata": {},
     "output_type": "execute_result"
    }
   ],
   "source": [
    "#intentamos modificar la matriz con el método .transpose()\n",
    "intento_transpose = np.transpose(array1,(2,0,1))\n",
    "intento_transpose"
   ]
  },
  {
   "cell_type": "code",
   "execution_count": 25,
   "metadata": {},
   "outputs": [
    {
     "data": {
      "text/plain": [
       "array([[[ 8,  5,  8, 14, 11],\n",
       "        [ 5,  4, 13,  7,  6]],\n",
       "\n",
       "       [[10, 12,  6, 16,  5],\n",
       "        [14,  2,  8, 13,  5]],\n",
       "\n",
       "       [[ 3,  5,  4, 13, 11],\n",
       "        [ 7,  4,  7, 17,  7]]])"
      ]
     },
     "execution_count": 25,
     "metadata": {},
     "output_type": "execute_result"
    }
   ],
   "source": [
    "#intentamos sumar después de haber modificado la matriz de nuevo:\n",
    "suma_array3 = intento_transpose + array2\n",
    "suma_array3"
   ]
  }
 ],
 "metadata": {
  "kernelspec": {
   "display_name": "Python 3.10.8 64-bit (microsoft store)",
   "language": "python",
   "name": "python3"
  },
  "language_info": {
   "codemirror_mode": {
    "name": "ipython",
    "version": 3
   },
   "file_extension": ".py",
   "mimetype": "text/x-python",
   "name": "python",
   "nbconvert_exporter": "python",
   "pygments_lexer": "ipython3",
   "version": "3.10.8"
  },
  "orig_nbformat": 4,
  "vscode": {
   "interpreter": {
    "hash": "74ce4e106c5f3fb5408a2b59926dbdd162e96cafe5f5c54fb66c999b373c7a81"
   }
  }
 },
 "nbformat": 4,
 "nbformat_minor": 2
}

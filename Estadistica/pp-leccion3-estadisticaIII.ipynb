{
 "cells": [
  {
   "attachments": {},
   "cell_type": "markdown",
   "metadata": {},
   "source": [
    "# Ejercicios Pair Programming - Módulo 2 Sprint 1\n",
    "## Lección 3 - Repaso Visualización y Estadística\n",
    "### Noemi Azorin y Silvia Gordón"
   ]
  },
  {
   "attachments": {},
   "cell_type": "markdown",
   "metadata": {},
   "source": [
    "Vamos ahora a tomar de nuevo el conjunto de datos con el que estuvimos trabajando en los últimos días y vamos a continuar con el análisis de las estadísitcas de los contenidos del conjunto de datos.\n",
    "\n",
    "Para todas los ejercicios de pair programming de Estadística I, II y III usaremos el dataframe que se tome para el desarrollo de este ejercicio de pair programming.\n",
    "\n",
    "Se ruega a la hora de realizar la entrega que incluyais el conjunto de datos que hayais decidido emplear para estos ejercicios."
   ]
  },
  {
   "cell_type": "code",
   "execution_count": 1,
   "metadata": {},
   "outputs": [],
   "source": [
    "import pandas as pd\n",
    "import numpy as np\n",
    "import matplotlib.pyplot as plt\n",
    "import seaborn as sns"
   ]
  },
  {
   "cell_type": "code",
   "execution_count": 2,
   "metadata": {},
   "outputs": [
    {
     "data": {
      "text/html": [
       "<div>\n",
       "<style scoped>\n",
       "    .dataframe tbody tr th:only-of-type {\n",
       "        vertical-align: middle;\n",
       "    }\n",
       "\n",
       "    .dataframe tbody tr th {\n",
       "        vertical-align: top;\n",
       "    }\n",
       "\n",
       "    .dataframe thead th {\n",
       "        text-align: right;\n",
       "    }\n",
       "</style>\n",
       "<table border=\"1\" class=\"dataframe\">\n",
       "  <thead>\n",
       "    <tr style=\"text-align: right;\">\n",
       "      <th></th>\n",
       "      <th>Unnamed: 0</th>\n",
       "      <th>country</th>\n",
       "      <th>rank</th>\n",
       "      <th>account</th>\n",
       "      <th>title</th>\n",
       "      <th>link</th>\n",
       "      <th>category</th>\n",
       "      <th>followers</th>\n",
       "      <th>audience_country</th>\n",
       "      <th>authentic_engagement</th>\n",
       "    </tr>\n",
       "  </thead>\n",
       "  <tbody>\n",
       "    <tr>\n",
       "      <th>0</th>\n",
       "      <td>0</td>\n",
       "      <td>All</td>\n",
       "      <td>1</td>\n",
       "      <td>cristiano</td>\n",
       "      <td>Cristiano Ronaldo</td>\n",
       "      <td>https://www.instagram.com/cristiano/</td>\n",
       "      <td>Sports with a ball</td>\n",
       "      <td>400100000.0</td>\n",
       "      <td>India</td>\n",
       "      <td>7800000.0</td>\n",
       "    </tr>\n",
       "    <tr>\n",
       "      <th>1</th>\n",
       "      <td>1</td>\n",
       "      <td>All</td>\n",
       "      <td>2</td>\n",
       "      <td>kyliejenner</td>\n",
       "      <td>Kylie 🤍</td>\n",
       "      <td>https://www.instagram.com/kyliejenner/</td>\n",
       "      <td>Fashion|Modeling|Beauty</td>\n",
       "      <td>308800000.0</td>\n",
       "      <td>United States</td>\n",
       "      <td>6200000.0</td>\n",
       "    </tr>\n",
       "    <tr>\n",
       "      <th>2</th>\n",
       "      <td>2</td>\n",
       "      <td>All</td>\n",
       "      <td>3</td>\n",
       "      <td>leomessi</td>\n",
       "      <td>Leo Messi</td>\n",
       "      <td>https://www.instagram.com/leomessi/</td>\n",
       "      <td>Sports with a ball|Family</td>\n",
       "      <td>306300000.0</td>\n",
       "      <td>Argentina</td>\n",
       "      <td>4800000.0</td>\n",
       "    </tr>\n",
       "    <tr>\n",
       "      <th>3</th>\n",
       "      <td>3</td>\n",
       "      <td>All</td>\n",
       "      <td>4</td>\n",
       "      <td>kendalljenner</td>\n",
       "      <td>Kendall</td>\n",
       "      <td>https://www.instagram.com/kendalljenner/</td>\n",
       "      <td>Modeling|Fashion</td>\n",
       "      <td>217800000.0</td>\n",
       "      <td>United States</td>\n",
       "      <td>3400000.0</td>\n",
       "    </tr>\n",
       "    <tr>\n",
       "      <th>4</th>\n",
       "      <td>4</td>\n",
       "      <td>All</td>\n",
       "      <td>5</td>\n",
       "      <td>selenagomez</td>\n",
       "      <td>Selena Gomez</td>\n",
       "      <td>https://www.instagram.com/selenagomez/</td>\n",
       "      <td>Music|Lifestyle</td>\n",
       "      <td>295800000.0</td>\n",
       "      <td>United States</td>\n",
       "      <td>2700000.0</td>\n",
       "    </tr>\n",
       "  </tbody>\n",
       "</table>\n",
       "</div>"
      ],
      "text/plain": [
       "   Unnamed: 0 country  rank        account              title  \\\n",
       "0           0     All     1      cristiano  Cristiano Ronaldo   \n",
       "1           1     All     2    kyliejenner            Kylie 🤍   \n",
       "2           2     All     3       leomessi          Leo Messi   \n",
       "3           3     All     4  kendalljenner            Kendall   \n",
       "4           4     All     5    selenagomez       Selena Gomez   \n",
       "\n",
       "                                       link                   category  \\\n",
       "0      https://www.instagram.com/cristiano/         Sports with a ball   \n",
       "1    https://www.instagram.com/kyliejenner/    Fashion|Modeling|Beauty   \n",
       "2       https://www.instagram.com/leomessi/  Sports with a ball|Family   \n",
       "3  https://www.instagram.com/kendalljenner/           Modeling|Fashion   \n",
       "4    https://www.instagram.com/selenagomez/            Music|Lifestyle   \n",
       "\n",
       "     followers audience_country  authentic_engagement  \n",
       "0  400100000.0            India             7800000.0  \n",
       "1  308800000.0    United States             6200000.0  \n",
       "2  306300000.0        Argentina             4800000.0  \n",
       "3  217800000.0    United States             3400000.0  \n",
       "4  295800000.0    United States             2700000.0  "
      ]
     },
     "execution_count": 2,
     "metadata": {},
     "output_type": "execute_result"
    }
   ],
   "source": [
    "# Carga datos del csv\n",
    "\n",
    "instagram3 = pd.read_csv(\"./Datasets/instagram_gloabal2.csv\")\n",
    "instagram3.head()"
   ]
  },
  {
   "attachments": {},
   "cell_type": "markdown",
   "metadata": {},
   "source": [
    "Los objetivos de hoy son:\n",
    "\n",
    "1.- Extraer los siguentes estadísiticos del conjunto de datos para varias de las varibles disponibles:"
   ]
  },
  {
   "attachments": {},
   "cell_type": "markdown",
   "metadata": {},
   "source": [
    "Tabla de contingencia"
   ]
  },
  {
   "cell_type": "code",
   "execution_count": null,
   "metadata": {},
   "outputs": [],
   "source": []
  },
  {
   "attachments": {},
   "cell_type": "markdown",
   "metadata": {},
   "source": [
    "Coeficiente de correlación de las variables numéricas del dataset."
   ]
  },
  {
   "cell_type": "code",
   "execution_count": null,
   "metadata": {},
   "outputs": [],
   "source": []
  },
  {
   "attachments": {},
   "cell_type": "markdown",
   "metadata": {},
   "source": [
    "Sesgos de alguna de las variables numéricas del dataset."
   ]
  },
  {
   "cell_type": "code",
   "execution_count": null,
   "metadata": {},
   "outputs": [],
   "source": []
  },
  {
   "attachments": {},
   "cell_type": "markdown",
   "metadata": {},
   "source": [
    "Intervalo de confianza de algunas de las variables numéricas del dataset"
   ]
  },
  {
   "cell_type": "code",
   "execution_count": null,
   "metadata": {},
   "outputs": [],
   "source": []
  },
  {
   "attachments": {},
   "cell_type": "markdown",
   "metadata": {},
   "source": [
    "2.- Interpretación de los resultados.\n",
    "\n",
    "Ahora interpreta los resultados obtenidos de los diferentes estadísticos estudiados haciendo hincapié en aspectos interesantes de tus datos y explica lo mejor posible la naturaleza de los mismos.\n",
    "\n",
    "Happy coding 📊📈📉"
   ]
  }
 ],
 "metadata": {
  "kernelspec": {
   "display_name": "adalabenv",
   "language": "python",
   "name": "python3"
  },
  "language_info": {
   "codemirror_mode": {
    "name": "ipython",
    "version": 3
   },
   "file_extension": ".py",
   "mimetype": "text/x-python",
   "name": "python",
   "nbconvert_exporter": "python",
   "pygments_lexer": "ipython3",
   "version": "3.10.8"
  },
  "orig_nbformat": 4,
  "vscode": {
   "interpreter": {
    "hash": "b09caf96bf0d00c87bf22d52d5d9b835bbcda673d84b7b1547b87932947942a4"
   }
  }
 },
 "nbformat": 4,
 "nbformat_minor": 2
}

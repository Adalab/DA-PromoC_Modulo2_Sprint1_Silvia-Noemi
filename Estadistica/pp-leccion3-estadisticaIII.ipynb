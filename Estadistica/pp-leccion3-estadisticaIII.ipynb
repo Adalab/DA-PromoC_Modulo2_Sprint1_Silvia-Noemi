{
 "cells": [
  {
   "attachments": {},
   "cell_type": "markdown",
   "metadata": {},
   "source": [
    "# Ejercicios Pair Programming - Módulo 2 Sprint 1\n",
    "## Lección 3 - Repaso Visualización y Estadística\n",
    "### Noemi Azorin y Silvia Gordón"
   ]
  },
  {
   "attachments": {},
   "cell_type": "markdown",
   "metadata": {},
   "source": [
    "Vamos ahora a tomar de nuevo el conjunto de datos con el que estuvimos trabajando en los últimos días y vamos a continuar con el análisis de las estadísitcas de los contenidos del conjunto de datos.\n",
    "\n",
    "Para todas los ejercicios de pair programming de Estadística I, II y III usaremos el dataframe que se tome para el desarrollo de este ejercicio de pair programming.\n",
    "\n",
    "Se ruega a la hora de realizar la entrega que incluyais el conjunto de datos que hayais decidido emplear para estos ejercicios."
   ]
  },
  {
   "cell_type": "code",
   "execution_count": 55,
   "metadata": {},
   "outputs": [],
   "source": [
    "import pandas as pd\n",
    "import numpy as np\n",
    "import matplotlib.pyplot as plt\n",
    "import seaborn as sns\n",
    "import re\n",
    "import scipy.stats as st\n",
    "from scipy.stats import skew"
   ]
  },
  {
   "cell_type": "code",
   "execution_count": 56,
   "metadata": {},
   "outputs": [
    {
     "data": {
      "text/html": [
       "<div>\n",
       "<style scoped>\n",
       "    .dataframe tbody tr th:only-of-type {\n",
       "        vertical-align: middle;\n",
       "    }\n",
       "\n",
       "    .dataframe tbody tr th {\n",
       "        vertical-align: top;\n",
       "    }\n",
       "\n",
       "    .dataframe thead th {\n",
       "        text-align: right;\n",
       "    }\n",
       "</style>\n",
       "<table border=\"1\" class=\"dataframe\">\n",
       "  <thead>\n",
       "    <tr style=\"text-align: right;\">\n",
       "      <th></th>\n",
       "      <th>country</th>\n",
       "      <th>rank</th>\n",
       "      <th>account</th>\n",
       "      <th>title</th>\n",
       "      <th>link</th>\n",
       "      <th>category</th>\n",
       "      <th>followers</th>\n",
       "      <th>audience_country</th>\n",
       "      <th>authentic_engagement</th>\n",
       "    </tr>\n",
       "  </thead>\n",
       "  <tbody>\n",
       "    <tr>\n",
       "      <th>0</th>\n",
       "      <td>All</td>\n",
       "      <td>1</td>\n",
       "      <td>cristiano</td>\n",
       "      <td>Cristiano Ronaldo</td>\n",
       "      <td>https://www.instagram.com/cristiano/</td>\n",
       "      <td>Sports with a ball</td>\n",
       "      <td>400100000.0</td>\n",
       "      <td>India</td>\n",
       "      <td>7800000.0</td>\n",
       "    </tr>\n",
       "    <tr>\n",
       "      <th>1</th>\n",
       "      <td>All</td>\n",
       "      <td>2</td>\n",
       "      <td>kyliejenner</td>\n",
       "      <td>Kylie 🤍</td>\n",
       "      <td>https://www.instagram.com/kyliejenner/</td>\n",
       "      <td>Fashion|Modeling|Beauty</td>\n",
       "      <td>308800000.0</td>\n",
       "      <td>United States</td>\n",
       "      <td>6200000.0</td>\n",
       "    </tr>\n",
       "    <tr>\n",
       "      <th>2</th>\n",
       "      <td>All</td>\n",
       "      <td>3</td>\n",
       "      <td>leomessi</td>\n",
       "      <td>Leo Messi</td>\n",
       "      <td>https://www.instagram.com/leomessi/</td>\n",
       "      <td>Sports with a ball|Family</td>\n",
       "      <td>306300000.0</td>\n",
       "      <td>Argentina</td>\n",
       "      <td>4800000.0</td>\n",
       "    </tr>\n",
       "    <tr>\n",
       "      <th>3</th>\n",
       "      <td>All</td>\n",
       "      <td>4</td>\n",
       "      <td>kendalljenner</td>\n",
       "      <td>Kendall</td>\n",
       "      <td>https://www.instagram.com/kendalljenner/</td>\n",
       "      <td>Modeling|Fashion</td>\n",
       "      <td>217800000.0</td>\n",
       "      <td>United States</td>\n",
       "      <td>3400000.0</td>\n",
       "    </tr>\n",
       "    <tr>\n",
       "      <th>4</th>\n",
       "      <td>All</td>\n",
       "      <td>5</td>\n",
       "      <td>selenagomez</td>\n",
       "      <td>Selena Gomez</td>\n",
       "      <td>https://www.instagram.com/selenagomez/</td>\n",
       "      <td>Music|Lifestyle</td>\n",
       "      <td>295800000.0</td>\n",
       "      <td>United States</td>\n",
       "      <td>2700000.0</td>\n",
       "    </tr>\n",
       "  </tbody>\n",
       "</table>\n",
       "</div>"
      ],
      "text/plain": [
       "  country  rank        account              title  \\\n",
       "0     All     1      cristiano  Cristiano Ronaldo   \n",
       "1     All     2    kyliejenner            Kylie 🤍   \n",
       "2     All     3       leomessi          Leo Messi   \n",
       "3     All     4  kendalljenner            Kendall   \n",
       "4     All     5    selenagomez       Selena Gomez   \n",
       "\n",
       "                                       link                   category  \\\n",
       "0      https://www.instagram.com/cristiano/         Sports with a ball   \n",
       "1    https://www.instagram.com/kyliejenner/    Fashion|Modeling|Beauty   \n",
       "2       https://www.instagram.com/leomessi/  Sports with a ball|Family   \n",
       "3  https://www.instagram.com/kendalljenner/           Modeling|Fashion   \n",
       "4    https://www.instagram.com/selenagomez/            Music|Lifestyle   \n",
       "\n",
       "     followers audience_country  authentic_engagement  \n",
       "0  400100000.0            India             7800000.0  \n",
       "1  308800000.0    United States             6200000.0  \n",
       "2  306300000.0        Argentina             4800000.0  \n",
       "3  217800000.0    United States             3400000.0  \n",
       "4  295800000.0    United States             2700000.0  "
      ]
     },
     "execution_count": 56,
     "metadata": {},
     "output_type": "execute_result"
    }
   ],
   "source": [
    "# Carga datos del csv\n",
    "\n",
    "instagram3 = pd.read_csv(\"./Datasets/instagram_gloabal2.csv\", index_col=0)\n",
    "instagram3.head()"
   ]
  },
  {
   "attachments": {},
   "cell_type": "markdown",
   "metadata": {},
   "source": [
    "Los objetivos de hoy son:\n",
    "\n",
    "1.- Extraer los siguentes estadísiticos del conjunto de datos para varias de las varibles disponibles:"
   ]
  },
  {
   "attachments": {},
   "cell_type": "markdown",
   "metadata": {},
   "source": [
    "Tabla de contingencia"
   ]
  },
  {
   "attachments": {},
   "cell_type": "markdown",
   "metadata": {},
   "source": [
    "Mostramos una tabla de contingencia para la variable \"audience_country\" que nos proporciona las preferencias de la audiencia para cada país con la variable \"category\" que nos proporciona los intereses que tienen los followers. \n",
    "Con dicha tabla lo que conseguimos es ver la relación entre país y categoría más vista. Un ejemplo de ello es que apreciamos que los países Brasil y Argentina prefieren el deporte a otra categoría."
   ]
  },
  {
   "cell_type": "code",
   "execution_count": 57,
   "metadata": {},
   "outputs": [
    {
     "data": {
      "text/html": [
       "<div>\n",
       "<style scoped>\n",
       "    .dataframe tbody tr th:only-of-type {\n",
       "        vertical-align: middle;\n",
       "    }\n",
       "\n",
       "    .dataframe tbody tr th {\n",
       "        vertical-align: top;\n",
       "    }\n",
       "\n",
       "    .dataframe thead th {\n",
       "        text-align: right;\n",
       "    }\n",
       "</style>\n",
       "<table border=\"1\" class=\"dataframe\">\n",
       "  <thead>\n",
       "    <tr style=\"text-align: right;\">\n",
       "      <th>category</th>\n",
       "      <th>Accessories|Jewellery|Clothing|Outfits|Fashion</th>\n",
       "      <th>Adult content</th>\n",
       "      <th>Animals</th>\n",
       "      <th>Art|Artists</th>\n",
       "      <th>Art|Artists|Beauty</th>\n",
       "      <th>Art|Artists|Cinema|Actors/actresses</th>\n",
       "      <th>Art|Artists|Cinema|Actors/actresses|Shows</th>\n",
       "      <th>Art|Artists|Comics  sketches</th>\n",
       "      <th>Art|Artists|Fashion|Modeling</th>\n",
       "      <th>Art|Artists|Fashion|Music</th>\n",
       "      <th>...</th>\n",
       "      <th>Shows|Humor|Fun|Happiness</th>\n",
       "      <th>Shows|Lifestyle</th>\n",
       "      <th>Shows|Modeling</th>\n",
       "      <th>Shows|Music</th>\n",
       "      <th>Sports with a ball</th>\n",
       "      <th>Sports with a ball|Family</th>\n",
       "      <th>Sports with a ball|Lifestyle</th>\n",
       "      <th>Sports with a ball|Lifestyle|Kids|Toys</th>\n",
       "      <th>Sports with a ball|Literature|Journalism</th>\n",
       "      <th>Sports with a ball|Shows</th>\n",
       "    </tr>\n",
       "    <tr>\n",
       "      <th>audience_country</th>\n",
       "      <th></th>\n",
       "      <th></th>\n",
       "      <th></th>\n",
       "      <th></th>\n",
       "      <th></th>\n",
       "      <th></th>\n",
       "      <th></th>\n",
       "      <th></th>\n",
       "      <th></th>\n",
       "      <th></th>\n",
       "      <th></th>\n",
       "      <th></th>\n",
       "      <th></th>\n",
       "      <th></th>\n",
       "      <th></th>\n",
       "      <th></th>\n",
       "      <th></th>\n",
       "      <th></th>\n",
       "      <th></th>\n",
       "      <th></th>\n",
       "      <th></th>\n",
       "    </tr>\n",
       "  </thead>\n",
       "  <tbody>\n",
       "    <tr>\n",
       "      <th>Algeria</th>\n",
       "      <td>0</td>\n",
       "      <td>0</td>\n",
       "      <td>0</td>\n",
       "      <td>0</td>\n",
       "      <td>0</td>\n",
       "      <td>0</td>\n",
       "      <td>0</td>\n",
       "      <td>0</td>\n",
       "      <td>0</td>\n",
       "      <td>0</td>\n",
       "      <td>...</td>\n",
       "      <td>0</td>\n",
       "      <td>0</td>\n",
       "      <td>0</td>\n",
       "      <td>0</td>\n",
       "      <td>1</td>\n",
       "      <td>0</td>\n",
       "      <td>0</td>\n",
       "      <td>0</td>\n",
       "      <td>0</td>\n",
       "      <td>0</td>\n",
       "    </tr>\n",
       "    <tr>\n",
       "      <th>Argentina</th>\n",
       "      <td>0</td>\n",
       "      <td>0</td>\n",
       "      <td>0</td>\n",
       "      <td>0</td>\n",
       "      <td>0</td>\n",
       "      <td>0</td>\n",
       "      <td>0</td>\n",
       "      <td>0</td>\n",
       "      <td>0</td>\n",
       "      <td>0</td>\n",
       "      <td>...</td>\n",
       "      <td>0</td>\n",
       "      <td>0</td>\n",
       "      <td>0</td>\n",
       "      <td>0</td>\n",
       "      <td>4</td>\n",
       "      <td>1</td>\n",
       "      <td>0</td>\n",
       "      <td>0</td>\n",
       "      <td>0</td>\n",
       "      <td>0</td>\n",
       "    </tr>\n",
       "    <tr>\n",
       "      <th>Brazil</th>\n",
       "      <td>0</td>\n",
       "      <td>1</td>\n",
       "      <td>0</td>\n",
       "      <td>1</td>\n",
       "      <td>0</td>\n",
       "      <td>0</td>\n",
       "      <td>0</td>\n",
       "      <td>0</td>\n",
       "      <td>1</td>\n",
       "      <td>0</td>\n",
       "      <td>...</td>\n",
       "      <td>1</td>\n",
       "      <td>1</td>\n",
       "      <td>0</td>\n",
       "      <td>0</td>\n",
       "      <td>16</td>\n",
       "      <td>0</td>\n",
       "      <td>0</td>\n",
       "      <td>0</td>\n",
       "      <td>0</td>\n",
       "      <td>0</td>\n",
       "    </tr>\n",
       "    <tr>\n",
       "      <th>Chile</th>\n",
       "      <td>0</td>\n",
       "      <td>0</td>\n",
       "      <td>0</td>\n",
       "      <td>0</td>\n",
       "      <td>0</td>\n",
       "      <td>0</td>\n",
       "      <td>0</td>\n",
       "      <td>0</td>\n",
       "      <td>0</td>\n",
       "      <td>0</td>\n",
       "      <td>...</td>\n",
       "      <td>0</td>\n",
       "      <td>0</td>\n",
       "      <td>0</td>\n",
       "      <td>0</td>\n",
       "      <td>1</td>\n",
       "      <td>0</td>\n",
       "      <td>0</td>\n",
       "      <td>0</td>\n",
       "      <td>0</td>\n",
       "      <td>0</td>\n",
       "    </tr>\n",
       "    <tr>\n",
       "      <th>China</th>\n",
       "      <td>0</td>\n",
       "      <td>0</td>\n",
       "      <td>0</td>\n",
       "      <td>0</td>\n",
       "      <td>0</td>\n",
       "      <td>0</td>\n",
       "      <td>0</td>\n",
       "      <td>0</td>\n",
       "      <td>0</td>\n",
       "      <td>0</td>\n",
       "      <td>...</td>\n",
       "      <td>0</td>\n",
       "      <td>0</td>\n",
       "      <td>0</td>\n",
       "      <td>0</td>\n",
       "      <td>0</td>\n",
       "      <td>0</td>\n",
       "      <td>0</td>\n",
       "      <td>0</td>\n",
       "      <td>0</td>\n",
       "      <td>0</td>\n",
       "    </tr>\n",
       "  </tbody>\n",
       "</table>\n",
       "<p>5 rows × 164 columns</p>\n",
       "</div>"
      ],
      "text/plain": [
       "category          Accessories|Jewellery|Clothing|Outfits|Fashion  \\\n",
       "audience_country                                                   \n",
       "Algeria                                                        0   \n",
       "Argentina                                                      0   \n",
       "Brazil                                                         0   \n",
       "Chile                                                          0   \n",
       "China                                                          0   \n",
       "\n",
       "category          Adult content  Animals  Art|Artists  Art|Artists|Beauty  \\\n",
       "audience_country                                                            \n",
       "Algeria                       0        0            0                   0   \n",
       "Argentina                     0        0            0                   0   \n",
       "Brazil                        1        0            1                   0   \n",
       "Chile                         0        0            0                   0   \n",
       "China                         0        0            0                   0   \n",
       "\n",
       "category          Art|Artists|Cinema|Actors/actresses  \\\n",
       "audience_country                                        \n",
       "Algeria                                             0   \n",
       "Argentina                                           0   \n",
       "Brazil                                              0   \n",
       "Chile                                               0   \n",
       "China                                               0   \n",
       "\n",
       "category          Art|Artists|Cinema|Actors/actresses|Shows  \\\n",
       "audience_country                                              \n",
       "Algeria                                                   0   \n",
       "Argentina                                                 0   \n",
       "Brazil                                                    0   \n",
       "Chile                                                     0   \n",
       "China                                                     0   \n",
       "\n",
       "category          Art|Artists|Comics  sketches  Art|Artists|Fashion|Modeling  \\\n",
       "audience_country                                                               \n",
       "Algeria                                      0                             0   \n",
       "Argentina                                    0                             0   \n",
       "Brazil                                       0                             1   \n",
       "Chile                                        0                             0   \n",
       "China                                        0                             0   \n",
       "\n",
       "category          Art|Artists|Fashion|Music  ...  Shows|Humor|Fun|Happiness  \\\n",
       "audience_country                             ...                              \n",
       "Algeria                                   0  ...                          0   \n",
       "Argentina                                 0  ...                          0   \n",
       "Brazil                                    0  ...                          1   \n",
       "Chile                                     0  ...                          0   \n",
       "China                                     0  ...                          0   \n",
       "\n",
       "category          Shows|Lifestyle  Shows|Modeling  Shows|Music  \\\n",
       "audience_country                                                 \n",
       "Algeria                         0               0            0   \n",
       "Argentina                       0               0            0   \n",
       "Brazil                          1               0            0   \n",
       "Chile                           0               0            0   \n",
       "China                           0               0            0   \n",
       "\n",
       "category          Sports with a ball  Sports with a ball|Family  \\\n",
       "audience_country                                                  \n",
       "Algeria                            1                          0   \n",
       "Argentina                          4                          1   \n",
       "Brazil                            16                          0   \n",
       "Chile                              1                          0   \n",
       "China                              0                          0   \n",
       "\n",
       "category          Sports with a ball|Lifestyle  \\\n",
       "audience_country                                 \n",
       "Algeria                                      0   \n",
       "Argentina                                    0   \n",
       "Brazil                                       0   \n",
       "Chile                                        0   \n",
       "China                                        0   \n",
       "\n",
       "category          Sports with a ball|Lifestyle|Kids|Toys  \\\n",
       "audience_country                                           \n",
       "Algeria                                                0   \n",
       "Argentina                                              0   \n",
       "Brazil                                                 0   \n",
       "Chile                                                  0   \n",
       "China                                                  0   \n",
       "\n",
       "category          Sports with a ball|Literature|Journalism  \\\n",
       "audience_country                                             \n",
       "Algeria                                                  0   \n",
       "Argentina                                                0   \n",
       "Brazil                                                   0   \n",
       "Chile                                                    0   \n",
       "China                                                    0   \n",
       "\n",
       "category          Sports with a ball|Shows  \n",
       "audience_country                            \n",
       "Algeria                                  0  \n",
       "Argentina                                0  \n",
       "Brazil                                   0  \n",
       "Chile                                    0  \n",
       "China                                    0  \n",
       "\n",
       "[5 rows x 164 columns]"
      ]
     },
     "execution_count": 57,
     "metadata": {},
     "output_type": "execute_result"
    }
   ],
   "source": [
    "instagram_contingencia = pd.crosstab(instagram3[\"audience_country\"], instagram3[\"category\"])\n",
    "instagram_contingencia.head()"
   ]
  },
  {
   "attachments": {},
   "cell_type": "markdown",
   "metadata": {},
   "source": [
    "Coeficiente de correlación de las variables numéricas del dataset."
   ]
  },
  {
   "cell_type": "code",
   "execution_count": 58,
   "metadata": {},
   "outputs": [
    {
     "name": "stderr",
     "output_type": "stream",
     "text": [
      "/tmp/ipykernel_436/4121016250.py:1: FutureWarning: The default value of numeric_only in DataFrame.corr is deprecated. In a future version, it will default to False. Select only valid columns or specify the value of numeric_only to silence this warning.\n",
      "  instagram_corrrelacion = instagram3.corr()\n"
     ]
    },
    {
     "data": {
      "text/html": [
       "<div>\n",
       "<style scoped>\n",
       "    .dataframe tbody tr th:only-of-type {\n",
       "        vertical-align: middle;\n",
       "    }\n",
       "\n",
       "    .dataframe tbody tr th {\n",
       "        vertical-align: top;\n",
       "    }\n",
       "\n",
       "    .dataframe thead th {\n",
       "        text-align: right;\n",
       "    }\n",
       "</style>\n",
       "<table border=\"1\" class=\"dataframe\">\n",
       "  <thead>\n",
       "    <tr style=\"text-align: right;\">\n",
       "      <th></th>\n",
       "      <th>rank</th>\n",
       "      <th>followers</th>\n",
       "      <th>authentic_engagement</th>\n",
       "    </tr>\n",
       "  </thead>\n",
       "  <tbody>\n",
       "    <tr>\n",
       "      <th>rank</th>\n",
       "      <td>1.000000</td>\n",
       "      <td>-0.435286</td>\n",
       "      <td>-0.463701</td>\n",
       "    </tr>\n",
       "    <tr>\n",
       "      <th>followers</th>\n",
       "      <td>-0.435286</td>\n",
       "      <td>1.000000</td>\n",
       "      <td>0.287067</td>\n",
       "    </tr>\n",
       "    <tr>\n",
       "      <th>authentic_engagement</th>\n",
       "      <td>-0.463701</td>\n",
       "      <td>0.287067</td>\n",
       "      <td>1.000000</td>\n",
       "    </tr>\n",
       "  </tbody>\n",
       "</table>\n",
       "</div>"
      ],
      "text/plain": [
       "                          rank  followers  authentic_engagement\n",
       "rank                  1.000000  -0.435286             -0.463701\n",
       "followers            -0.435286   1.000000              0.287067\n",
       "authentic_engagement -0.463701   0.287067              1.000000"
      ]
     },
     "execution_count": 58,
     "metadata": {},
     "output_type": "execute_result"
    }
   ],
   "source": [
    "instagram_corrrelacion = instagram3.corr()\n",
    "instagram_corrrelacion"
   ]
  },
  {
   "attachments": {},
   "cell_type": "markdown",
   "metadata": {},
   "source": [
    "Creamos el gráfico de mapa de calor para poder ver de forma más visible la correlación."
   ]
  },
  {
   "cell_type": "code",
   "execution_count": 59,
   "metadata": {},
   "outputs": [
    {
     "name": "stderr",
     "output_type": "stream",
     "text": [
      "/tmp/ipykernel_436/1108913664.py:2: FutureWarning: The default value of numeric_only in DataFrame.corr is deprecated. In a future version, it will default to False. Select only valid columns or specify the value of numeric_only to silence this warning.\n",
      "  fig = sns.heatmap(instagram3.corr(), cmap=\"mako\", annot=True, vmin=-1, vmax=1)\n"
     ]
    },
    {
     "data": {
      "image/png": "[encoded data removed]",
      "text/plain": [
       "<Figure size 640x480 with 2 Axes>"
      ]
     },
     "metadata": {},
     "output_type": "display_data"
    }
   ],
   "source": [
    "plt.figure()\n",
    "fig = sns.heatmap(instagram3.corr(), cmap=\"mako\", annot=True, vmin=-1, vmax=1)\n",
    "plt.show()"
   ]
  },
  {
   "attachments": {},
   "cell_type": "markdown",
   "metadata": {},
   "source": [
    "Creamos también el gráfico de dispersión para poder contrastar la información que nos aparece en el heatmap"
   ]
  },
  {
   "cell_type": "code",
   "execution_count": 60,
   "metadata": {},
   "outputs": [
    {
     "data": {
      "image/png": "[encoded data removed]",
      "text/plain": [
       "<Figure size 640x480 with 1 Axes>"
      ]
     },
     "metadata": {},
     "output_type": "display_data"
    }
   ],
   "source": [
    "plt.figure()\n",
    "fig = sns.scatterplot(x= \"rank\", data= instagram3, y=\"followers\")\n",
    "plt.show()"
   ]
  },
  {
   "attachments": {},
   "cell_type": "markdown",
   "metadata": {},
   "source": [
    "Relación authentic_engagement - rank = Vemos que tiene una correlación negativa moderada, es decir que si la audiencia aumenta,  disminuiría en el ranking, es decir, estarían en los puestos top (1, 2...).\n",
    "\n",
    "Relación followers - rank = Vemos que tiene una correlación negativa moderada, es decir que si los followers aumenta, disminuiría en el ranking, es decir, estarian en los puestos top (1, 2..).\n",
    "\n",
    "Relación authentic-engagement - followers = Vemos que tiene una corrrelación positiva baja, es decir que si la audiencia aumenta también aumentan los followers pero de una manera poco significativa."
   ]
  },
  {
   "attachments": {},
   "cell_type": "markdown",
   "metadata": {},
   "source": [
    "Sesgos de alguna de las variables numéricas del dataset."
   ]
  },
  {
   "attachments": {},
   "cell_type": "markdown",
   "metadata": {},
   "source": [
    "Creamos un gráfico distplot para ver el sesgo de la variable followers"
   ]
  },
  {
   "cell_type": "code",
   "execution_count": 61,
   "metadata": {},
   "outputs": [
    {
     "name": "stderr",
     "output_type": "stream",
     "text": [
      "/tmp/ipykernel_436/77183619.py:2: UserWarning: \n",
      "\n",
      "`distplot` is a deprecated function and will be removed in seaborn v0.14.0.\n",
      "\n",
      "Please adapt your code to use either `displot` (a figure-level function with\n",
      "similar flexibility) or `histplot` (an axes-level function for histograms).\n",
      "\n",
      "For a guide to updating your code to use the new functions, please see\n",
      "https://gist.github.com/mwaskom/de44147ed2974457ad6372750bbe5751\n",
      "\n",
      "  fig = sns.distplot(instagram3[\"followers\"], color=\"blue\", kde=True)\n"
     ]
    },
    {
     "data": {
      "image/png": "[encoded data removed]",
      "text/plain": [
       "<Figure size 640x480 with 1 Axes>"
      ]
     },
     "metadata": {},
     "output_type": "display_data"
    }
   ],
   "source": [
    "plt.figure()\n",
    "fig = sns.distplot(instagram3[\"followers\"], color=\"blue\", kde=True)\n",
    "plt.show()"
   ]
  },
  {
   "attachments": {},
   "cell_type": "markdown",
   "metadata": {},
   "source": [
    "Followers = Está sesgada a la derecha (sesgo positivo) como vemos en la gráfica. Para ver el valor del sesgo utilizamos el método skew"
   ]
  },
  {
   "cell_type": "code",
   "execution_count": 62,
   "metadata": {},
   "outputs": [
    {
     "name": "stdout",
     "output_type": "stream",
     "text": [
      "El valor del sesgo para la variable followers es 5.841688024139401\n"
     ]
    }
   ],
   "source": [
    "sesgo_followers = skew(instagram3[\"followers\"])\n",
    "print(f\"El valor del sesgo para la variable followers es {sesgo_followers}\")"
   ]
  },
  {
   "attachments": {},
   "cell_type": "markdown",
   "metadata": {},
   "source": [
    "Authentic engagement:"
   ]
  },
  {
   "attachments": {},
   "cell_type": "markdown",
   "metadata": {},
   "source": [
    "Creamos un gráfico distplot para ver el sesgo de la variable Authentic Engagement"
   ]
  },
  {
   "cell_type": "code",
   "execution_count": 63,
   "metadata": {},
   "outputs": [
    {
     "name": "stderr",
     "output_type": "stream",
     "text": [
      "/tmp/ipykernel_436/2999405306.py:2: UserWarning: \n",
      "\n",
      "`distplot` is a deprecated function and will be removed in seaborn v0.14.0.\n",
      "\n",
      "Please adapt your code to use either `displot` (a figure-level function with\n",
      "similar flexibility) or `histplot` (an axes-level function for histograms).\n",
      "\n",
      "For a guide to updating your code to use the new functions, please see\n",
      "https://gist.github.com/mwaskom/de44147ed2974457ad6372750bbe5751\n",
      "\n",
      "  fig = sns.distplot(instagram3[\"authentic_engagement\"], color=\"blue\", kde=True)\n"
     ]
    },
    {
     "data": {
      "image/png": "[encoded data removed]",
      "text/plain": [
       "<Figure size 640x480 with 1 Axes>"
      ]
     },
     "metadata": {},
     "output_type": "display_data"
    }
   ],
   "source": [
    "plt.figure()\n",
    "fig = sns.distplot(instagram3[\"authentic_engagement\"], color=\"blue\", kde=True)\n",
    "plt.show()"
   ]
  },
  {
   "attachments": {},
   "cell_type": "markdown",
   "metadata": {},
   "source": [
    "Authentic Engagement = Está sesgada a la derecha (sesgo positivo) como vemos en la gráfica. Para ver el valor del sesgo utilizamos el método skew"
   ]
  },
  {
   "cell_type": "code",
   "execution_count": 64,
   "metadata": {},
   "outputs": [
    {
     "name": "stdout",
     "output_type": "stream",
     "text": [
      "El valor del sesgo para la variable followers es 6.261574785511843\n"
     ]
    }
   ],
   "source": [
    "sesgo_engagement = skew(instagram3[\"authentic_engagement\"])\n",
    "print(f\"El valor del sesgo para la variable followers es {sesgo_engagement}\")"
   ]
  },
  {
   "attachments": {},
   "cell_type": "markdown",
   "metadata": {},
   "source": [
    "Intervalo de confianza de algunas de las variables numéricas del dataset"
   ]
  },
  {
   "attachments": {},
   "cell_type": "markdown",
   "metadata": {},
   "source": [
    "Followers"
   ]
  },
  {
   "cell_type": "code",
   "execution_count": 65,
   "metadata": {},
   "outputs": [
    {
     "name": "stdout",
     "output_type": "stream",
     "text": [
      "(22433253.549261674, 27238946.450738326)\n",
      "24836100.0\n"
     ]
    },
    {
     "name": "stderr",
     "output_type": "stream",
     "text": [
      "/tmp/ipykernel_436/1238266483.py:3: DeprecationWarning: Use of keyword argument `alpha` for method `interval` is deprecated. Use first positional argument or keyword argument `confidence` instead.\n",
      "  print(st.t.interval(alpha=0.95, df=len(datos)-1, loc=np.mean(datos), scale=st.sem(datos)))\n"
     ]
    }
   ],
   "source": [
    "datos = instagram3[\"followers\"]\n",
    "\n",
    "print(st.t.interval(alpha=0.95, df=len(datos)-1, loc=np.mean(datos), scale=st.sem(datos)))\n",
    "print(np.mean(datos))"
   ]
  },
  {
   "attachments": {},
   "cell_type": "markdown",
   "metadata": {},
   "source": [
    "Aqui vemos que hay un 95% de probabilidades de que la media de followers se encuentre en el intervalo (22433253.549261674, 27238946.450738326)"
   ]
  },
  {
   "attachments": {},
   "cell_type": "markdown",
   "metadata": {},
   "source": [
    "Authentic Engagement"
   ]
  },
  {
   "cell_type": "code",
   "execution_count": 66,
   "metadata": {},
   "outputs": [
    {
     "name": "stdout",
     "output_type": "stream",
     "text": [
      "(580936.8938247674, 717308.7061752327)\n",
      "649122.8\n"
     ]
    },
    {
     "name": "stderr",
     "output_type": "stream",
     "text": [
      "/tmp/ipykernel_436/1010384125.py:3: DeprecationWarning: Use of keyword argument `alpha` for method `interval` is deprecated. Use first positional argument or keyword argument `confidence` instead.\n",
      "  print(st.t.interval(alpha=0.95, df=len(datos2)-1, loc=np.mean(datos2), scale=st.sem(datos2)))\n"
     ]
    }
   ],
   "source": [
    "datos2 = instagram3[\"authentic_engagement\"]\n",
    "\n",
    "print(st.t.interval(alpha=0.95, df=len(datos2)-1, loc=np.mean(datos2), scale=st.sem(datos2)))\n",
    "print(np.mean(datos2))"
   ]
  },
  {
   "attachments": {},
   "cell_type": "markdown",
   "metadata": {},
   "source": [
    "Aqui vemos que hay un 95% de probabilidades de que la media de engagement se encuentre en el intervalo (580936.8938247674, 717308.7061752327)"
   ]
  },
  {
   "attachments": {},
   "cell_type": "markdown",
   "metadata": {},
   "source": [
    "2.- Interpretación de los resultados.\n",
    "\n",
    "Ahora interpreta los resultados obtenidos de los diferentes estadísticos estudiados haciendo hincapié en aspectos interesantes de tus datos y explica lo mejor posible la naturaleza de los mismos."
   ]
  },
  {
   "attachments": {},
   "cell_type": "markdown",
   "metadata": {},
   "source": [
    "Se ha ido interpretando los resultados a medida que se iban realizando."
   ]
  },
  {
   "attachments": {},
   "cell_type": "markdown",
   "metadata": {},
   "source": [
    "Happy coding 📊📈📉"
   ]
  }
 ],
 "metadata": {
  "kernelspec": {
   "display_name": "adalabenv",
   "language": "python",
   "name": "python3"
  },
  "language_info": {
   "codemirror_mode": {
    "name": "ipython",
    "version": 3
   },
   "file_extension": ".py",
   "mimetype": "text/x-python",
   "name": "python",
   "nbconvert_exporter": "python",
   "pygments_lexer": "ipython3",
   "version": "3.10.8"
  },
  "orig_nbformat": 4,
  "vscode": {
   "interpreter": {
    "hash": "b09caf96bf0d00c87bf22d52d5d9b835bbcda673d84b7b1547b87932947942a4"
   }
  }
 },
 "nbformat": 4,
 "nbformat_minor": 2
}

{
 "cells": [
  {
   "attachments": {},
   "cell_type": "markdown",
   "metadata": {},
   "source": [
    "# Ejercicios Pair Programming - Módulo 2 Sprint 1\n",
    "## Lección 1 - Estadística I\n",
    "### Noemi Azorin y Silvia Gordón"
   ]
  },
  {
   "attachments": {},
   "cell_type": "markdown",
   "metadata": {},
   "source": [
    " En estas lecciones de estadística vamos a darle un giro de tuerca a la forma en la que se ha resuelto los ejercicios de la Pair de hasta ahora! Para ello os vamos a pedir que por vuestra cuenta busqueis un dataset que os guste, por ejemplo de Kaggle o de donde queráis extraerlo. De esta forma vamos a estudiar los diferentes estadísiticos que contiene en dataset seleccionado Para todas los ejercicios de pair programming de Estadística I, II y III usaremos el dataframe que se tome para el desarrollo de este ejercicio de pair programming."
   ]
  },
  {
   "cell_type": "code",
   "execution_count": 3,
   "metadata": {},
   "outputs": [],
   "source": [
    "import pandas as pd\n",
    "import numpy as np\n",
    "import matplotlib.pyplot as plt\n",
    "import seaborn as sns"
   ]
  },
  {
   "attachments": {},
   "cell_type": "markdown",
   "metadata": {},
   "source": [
    "Los objetivos de hoy son:\n",
    "\n",
    "1 - Buscar un conjunto de datos a analizar:\n",
    "- Se recomienda que el conjunto de datos a analizar tenga variables numéricas y categóricas. Ya que también se analizarán."
   ]
  },
  {
   "cell_type": "code",
   "execution_count": 4,
   "metadata": {},
   "outputs": [
    {
     "data": {
      "text/html": [
       "<div>\n",
       "<style scoped>\n",
       "    .dataframe tbody tr th:only-of-type {\n",
       "        vertical-align: middle;\n",
       "    }\n",
       "\n",
       "    .dataframe tbody tr th {\n",
       "        vertical-align: top;\n",
       "    }\n",
       "\n",
       "    .dataframe thead th {\n",
       "        text-align: right;\n",
       "    }\n",
       "</style>\n",
       "<table border=\"1\" class=\"dataframe\">\n",
       "  <thead>\n",
       "    <tr style=\"text-align: right;\">\n",
       "      <th></th>\n",
       "      <th>Country</th>\n",
       "      <th>Rank</th>\n",
       "      <th>Account</th>\n",
       "      <th>Title</th>\n",
       "      <th>Link</th>\n",
       "      <th>Category</th>\n",
       "      <th>Followers</th>\n",
       "      <th>Audience Country</th>\n",
       "      <th>Authentic engagement</th>\n",
       "      <th>Engagement avg</th>\n",
       "      <th>Scraped</th>\n",
       "    </tr>\n",
       "  </thead>\n",
       "  <tbody>\n",
       "    <tr>\n",
       "      <th>0</th>\n",
       "      <td>All</td>\n",
       "      <td>1</td>\n",
       "      <td>cristiano</td>\n",
       "      <td>Cristiano Ronaldo</td>\n",
       "      <td>https://www.instagram.com/cristiano/</td>\n",
       "      <td>Sports with a ball</td>\n",
       "      <td>400100000.0</td>\n",
       "      <td>India</td>\n",
       "      <td>7800000.0</td>\n",
       "      <td>9500000.0</td>\n",
       "      <td>2022-02-07 16:50:24.798803</td>\n",
       "    </tr>\n",
       "    <tr>\n",
       "      <th>1</th>\n",
       "      <td>All</td>\n",
       "      <td>2</td>\n",
       "      <td>kyliejenner</td>\n",
       "      <td>Kylie 🤍</td>\n",
       "      <td>https://www.instagram.com/kyliejenner/</td>\n",
       "      <td>Fashion|Modeling|Beauty</td>\n",
       "      <td>308800000.0</td>\n",
       "      <td>United States</td>\n",
       "      <td>6200000.0</td>\n",
       "      <td>10100000.0</td>\n",
       "      <td>2022-02-07 16:50:24.798803</td>\n",
       "    </tr>\n",
       "    <tr>\n",
       "      <th>2</th>\n",
       "      <td>All</td>\n",
       "      <td>3</td>\n",
       "      <td>leomessi</td>\n",
       "      <td>Leo Messi</td>\n",
       "      <td>https://www.instagram.com/leomessi/</td>\n",
       "      <td>Sports with a ball|Family</td>\n",
       "      <td>306300000.0</td>\n",
       "      <td>Argentina</td>\n",
       "      <td>4800000.0</td>\n",
       "      <td>6500000.0</td>\n",
       "      <td>2022-02-07 16:50:24.798803</td>\n",
       "    </tr>\n",
       "    <tr>\n",
       "      <th>3</th>\n",
       "      <td>All</td>\n",
       "      <td>4</td>\n",
       "      <td>kendalljenner</td>\n",
       "      <td>Kendall</td>\n",
       "      <td>https://www.instagram.com/kendalljenner/</td>\n",
       "      <td>Modeling|Fashion</td>\n",
       "      <td>217800000.0</td>\n",
       "      <td>United States</td>\n",
       "      <td>3400000.0</td>\n",
       "      <td>5400000.0</td>\n",
       "      <td>2022-02-07 16:50:24.798803</td>\n",
       "    </tr>\n",
       "    <tr>\n",
       "      <th>4</th>\n",
       "      <td>All</td>\n",
       "      <td>5</td>\n",
       "      <td>selenagomez</td>\n",
       "      <td>Selena Gomez</td>\n",
       "      <td>https://www.instagram.com/selenagomez/</td>\n",
       "      <td>Music|Lifestyle</td>\n",
       "      <td>295800000.0</td>\n",
       "      <td>United States</td>\n",
       "      <td>2700000.0</td>\n",
       "      <td>3600000.0</td>\n",
       "      <td>2022-02-07 16:50:24.798803</td>\n",
       "    </tr>\n",
       "  </tbody>\n",
       "</table>\n",
       "</div>"
      ],
      "text/plain": [
       "  Country  Rank        Account              Title  \\\n",
       "0     All     1      cristiano  Cristiano Ronaldo   \n",
       "1     All     2    kyliejenner            Kylie 🤍   \n",
       "2     All     3       leomessi          Leo Messi   \n",
       "3     All     4  kendalljenner            Kendall   \n",
       "4     All     5    selenagomez       Selena Gomez   \n",
       "\n",
       "                                       Link                   Category  \\\n",
       "0      https://www.instagram.com/cristiano/         Sports with a ball   \n",
       "1    https://www.instagram.com/kyliejenner/    Fashion|Modeling|Beauty   \n",
       "2       https://www.instagram.com/leomessi/  Sports with a ball|Family   \n",
       "3  https://www.instagram.com/kendalljenner/           Modeling|Fashion   \n",
       "4    https://www.instagram.com/selenagomez/            Music|Lifestyle   \n",
       "\n",
       "     Followers Audience Country  Authentic engagement  Engagement avg  \\\n",
       "0  400100000.0            India             7800000.0       9500000.0   \n",
       "1  308800000.0    United States             6200000.0      10100000.0   \n",
       "2  306300000.0        Argentina             4800000.0       6500000.0   \n",
       "3  217800000.0    United States             3400000.0       5400000.0   \n",
       "4  295800000.0    United States             2700000.0       3600000.0   \n",
       "\n",
       "                      Scraped  \n",
       "0  2022-02-07 16:50:24.798803  \n",
       "1  2022-02-07 16:50:24.798803  \n",
       "2  2022-02-07 16:50:24.798803  \n",
       "3  2022-02-07 16:50:24.798803  \n",
       "4  2022-02-07 16:50:24.798803  "
      ]
     },
     "execution_count": 4,
     "metadata": {},
     "output_type": "execute_result"
    }
   ],
   "source": [
    "#nuestro dataseet elegido proviene de kaggle y muestra las 1000 cuentas de Instagram con más followers e interacciones.\n",
    "\n",
    "instagram = pd.read_csv(\"./Datasets/instagram_global_top_1000.csv\")\n",
    "instagram.head()"
   ]
  },
  {
   "attachments": {},
   "cell_type": "markdown",
   "metadata": {},
   "source": [
    "Procedemos a analizar y limpiar un poco nuestro DF."
   ]
  },
  {
   "cell_type": "code",
   "execution_count": 5,
   "metadata": {},
   "outputs": [],
   "source": [
    "instagram.drop(columns= [\"Engagement avg\", \"Scraped\"], inplace= True)"
   ]
  },
  {
   "cell_type": "code",
   "execution_count": 6,
   "metadata": {},
   "outputs": [],
   "source": [
    "columnas_nuevas = {col:col.lower().replace(\" \",\"_\") for col in instagram.columns}"
   ]
  },
  {
   "cell_type": "code",
   "execution_count": 7,
   "metadata": {},
   "outputs": [],
   "source": [
    "instagram.rename(columns= columnas_nuevas, inplace= True)"
   ]
  },
  {
   "cell_type": "code",
   "execution_count": 8,
   "metadata": {},
   "outputs": [
    {
     "data": {
      "text/plain": [
       "Index(['country', 'rank', 'account', 'title', 'link', 'category', 'followers',\n",
       "       'audience_country', 'authentic_engagement'],\n",
       "      dtype='object')"
      ]
     },
     "execution_count": 8,
     "metadata": {},
     "output_type": "execute_result"
    }
   ],
   "source": [
    "instagram.columns"
   ]
  },
  {
   "cell_type": "code",
   "execution_count": 9,
   "metadata": {},
   "outputs": [
    {
     "name": "stdout",
     "output_type": "stream",
     "text": [
      "<class 'pandas.core.frame.DataFrame'>\n",
      "RangeIndex: 1000 entries, 0 to 999\n",
      "Data columns (total 9 columns):\n",
      " #   Column                Non-Null Count  Dtype  \n",
      "---  ------                --------------  -----  \n",
      " 0   country               1000 non-null   object \n",
      " 1   rank                  1000 non-null   int64  \n",
      " 2   account               1000 non-null   object \n",
      " 3   title                 983 non-null    object \n",
      " 4   link                  1000 non-null   object \n",
      " 5   category              909 non-null    object \n",
      " 6   followers             1000 non-null   float64\n",
      " 7   audience_country      993 non-null    object \n",
      " 8   authentic_engagement  1000 non-null   float64\n",
      "dtypes: float64(2), int64(1), object(6)\n",
      "memory usage: 70.4+ KB\n"
     ]
    }
   ],
   "source": [
    "instagram.info()"
   ]
  },
  {
   "cell_type": "code",
   "execution_count": 10,
   "metadata": {},
   "outputs": [
    {
     "data": {
      "text/plain": [
       "country                  0\n",
       "rank                     0\n",
       "account                  0\n",
       "title                   17\n",
       "link                     0\n",
       "category                91\n",
       "followers                0\n",
       "audience_country         7\n",
       "authentic_engagement     0\n",
       "dtype: int64"
      ]
     },
     "execution_count": 10,
     "metadata": {},
     "output_type": "execute_result"
    }
   ],
   "source": [
    "instagram.isnull().sum()"
   ]
  },
  {
   "cell_type": "code",
   "execution_count": 11,
   "metadata": {},
   "outputs": [
    {
     "data": {
      "text/plain": [
       "0"
      ]
     },
     "execution_count": 11,
     "metadata": {},
     "output_type": "execute_result"
    }
   ],
   "source": [
    "instagram.duplicated().sum()"
   ]
  },
  {
   "cell_type": "code",
   "execution_count": 12,
   "metadata": {},
   "outputs": [
    {
     "data": {
      "text/html": [
       "<div>\n",
       "<style scoped>\n",
       "    .dataframe tbody tr th:only-of-type {\n",
       "        vertical-align: middle;\n",
       "    }\n",
       "\n",
       "    .dataframe tbody tr th {\n",
       "        vertical-align: top;\n",
       "    }\n",
       "\n",
       "    .dataframe thead th {\n",
       "        text-align: right;\n",
       "    }\n",
       "</style>\n",
       "<table border=\"1\" class=\"dataframe\">\n",
       "  <thead>\n",
       "    <tr style=\"text-align: right;\">\n",
       "      <th></th>\n",
       "      <th>count</th>\n",
       "      <th>mean</th>\n",
       "      <th>std</th>\n",
       "      <th>min</th>\n",
       "      <th>25%</th>\n",
       "      <th>50%</th>\n",
       "      <th>75%</th>\n",
       "      <th>max</th>\n",
       "    </tr>\n",
       "  </thead>\n",
       "  <tbody>\n",
       "    <tr>\n",
       "      <th>rank</th>\n",
       "      <td>1000.0</td>\n",
       "      <td>500.5</td>\n",
       "      <td>2.888194e+02</td>\n",
       "      <td>1.0</td>\n",
       "      <td>250.75</td>\n",
       "      <td>500.5</td>\n",
       "      <td>750.25</td>\n",
       "      <td>1000.0</td>\n",
       "    </tr>\n",
       "    <tr>\n",
       "      <th>followers</th>\n",
       "      <td>1000.0</td>\n",
       "      <td>24836100.0</td>\n",
       "      <td>3.872143e+07</td>\n",
       "      <td>2800000.0</td>\n",
       "      <td>9000000.00</td>\n",
       "      <td>14400000.0</td>\n",
       "      <td>25650000.00</td>\n",
       "      <td>469600000.0</td>\n",
       "    </tr>\n",
       "    <tr>\n",
       "      <th>authentic_engagement</th>\n",
       "      <td>1000.0</td>\n",
       "      <td>649122.8</td>\n",
       "      <td>1.098804e+06</td>\n",
       "      <td>0.0</td>\n",
       "      <td>209100.00</td>\n",
       "      <td>363700.0</td>\n",
       "      <td>683250.00</td>\n",
       "      <td>13400000.0</td>\n",
       "    </tr>\n",
       "  </tbody>\n",
       "</table>\n",
       "</div>"
      ],
      "text/plain": [
       "                       count        mean           std        min         25%  \\\n",
       "rank                  1000.0       500.5  2.888194e+02        1.0      250.75   \n",
       "followers             1000.0  24836100.0  3.872143e+07  2800000.0  9000000.00   \n",
       "authentic_engagement  1000.0    649122.8  1.098804e+06        0.0   209100.00   \n",
       "\n",
       "                             50%          75%          max  \n",
       "rank                       500.5       750.25       1000.0  \n",
       "followers             14400000.0  25650000.00  469600000.0  \n",
       "authentic_engagement    363700.0    683250.00   13400000.0  "
      ]
     },
     "execution_count": 12,
     "metadata": {},
     "output_type": "execute_result"
    }
   ],
   "source": [
    "instagram.describe().T"
   ]
  },
  {
   "cell_type": "code",
   "execution_count": 13,
   "metadata": {},
   "outputs": [
    {
     "data": {
      "text/html": [
       "<div>\n",
       "<style scoped>\n",
       "    .dataframe tbody tr th:only-of-type {\n",
       "        vertical-align: middle;\n",
       "    }\n",
       "\n",
       "    .dataframe tbody tr th {\n",
       "        vertical-align: top;\n",
       "    }\n",
       "\n",
       "    .dataframe thead th {\n",
       "        text-align: right;\n",
       "    }\n",
       "</style>\n",
       "<table border=\"1\" class=\"dataframe\">\n",
       "  <thead>\n",
       "    <tr style=\"text-align: right;\">\n",
       "      <th></th>\n",
       "      <th>count</th>\n",
       "      <th>unique</th>\n",
       "      <th>top</th>\n",
       "      <th>freq</th>\n",
       "    </tr>\n",
       "  </thead>\n",
       "  <tbody>\n",
       "    <tr>\n",
       "      <th>country</th>\n",
       "      <td>1000</td>\n",
       "      <td>1</td>\n",
       "      <td>All</td>\n",
       "      <td>1000</td>\n",
       "    </tr>\n",
       "    <tr>\n",
       "      <th>account</th>\n",
       "      <td>1000</td>\n",
       "      <td>1000</td>\n",
       "      <td>cristiano</td>\n",
       "      <td>1</td>\n",
       "    </tr>\n",
       "    <tr>\n",
       "      <th>title</th>\n",
       "      <td>983</td>\n",
       "      <td>982</td>\n",
       "      <td>НАСТЯ ИВЛЕЕВА</td>\n",
       "      <td>2</td>\n",
       "    </tr>\n",
       "    <tr>\n",
       "      <th>link</th>\n",
       "      <td>1000</td>\n",
       "      <td>1000</td>\n",
       "      <td>https://www.instagram.com/cristiano/</td>\n",
       "      <td>1</td>\n",
       "    </tr>\n",
       "    <tr>\n",
       "      <th>category</th>\n",
       "      <td>909</td>\n",
       "      <td>165</td>\n",
       "      <td>Music</td>\n",
       "      <td>170</td>\n",
       "    </tr>\n",
       "    <tr>\n",
       "      <th>audience_country</th>\n",
       "      <td>993</td>\n",
       "      <td>31</td>\n",
       "      <td>United States</td>\n",
       "      <td>283</td>\n",
       "    </tr>\n",
       "  </tbody>\n",
       "</table>\n",
       "</div>"
      ],
      "text/plain": [
       "                 count unique                                   top  freq\n",
       "country           1000      1                                   All  1000\n",
       "account           1000   1000                             cristiano     1\n",
       "title              983    982                         НАСТЯ ИВЛЕЕВА     2\n",
       "link              1000   1000  https://www.instagram.com/cristiano/     1\n",
       "category           909    165                                 Music   170\n",
       "audience_country   993     31                         United States   283"
      ]
     },
     "execution_count": 13,
     "metadata": {},
     "output_type": "execute_result"
    }
   ],
   "source": [
    "instagram.describe(include=\"object\").T"
   ]
  },
  {
   "attachments": {},
   "cell_type": "markdown",
   "metadata": {},
   "source": [
    "2 - Extraer los siguentes estadísiticos del conjunto de datos para varias de las variables disponibles:\n",
    "- Media\n",
    "- Desviación con respecto de la media\n",
    "- Varianza\n",
    "- Desviación típica\n",
    "- Moda\n",
    "- Mediana\n",
    "- Media ponderada\n",
    "- Robustez\n",
    "- Coeficiente de variación"
   ]
  },
  {
   "attachments": {},
   "cell_type": "markdown",
   "metadata": {},
   "source": [
    "Para la columna \"followers\":"
   ]
  },
  {
   "attachments": {},
   "cell_type": "markdown",
   "metadata": {},
   "source": [
    "Calculamos la media."
   ]
  },
  {
   "cell_type": "code",
   "execution_count": 14,
   "metadata": {},
   "outputs": [
    {
     "data": {
      "text/plain": [
       "24836100.0"
      ]
     },
     "execution_count": 14,
     "metadata": {},
     "output_type": "execute_result"
    }
   ],
   "source": [
    "media_f = instagram[\"followers\"].mean()\n",
    "media_f"
   ]
  },
  {
   "attachments": {},
   "cell_type": "markdown",
   "metadata": {},
   "source": [
    "Calculamos la desviación con respecto a la media. \n",
    "\n",
    "Observamos que los primeros 5 instagramers tienen un valor muy alto respecto a la media, por lo tanto la desviación es alta. Por otro lado, los últimos 5 presentan un valor más bajo respecto a la media, lo que significa que se encuentran mucho más cerca de la media. En conclusión, en este ejemplo, vemos que los valores más cercanos a la media coinciden con los valores más bajos de nuestra columna \"followers\"."
   ]
  },
  {
   "cell_type": "code",
   "execution_count": 15,
   "metadata": {},
   "outputs": [
    {
     "data": {
      "text/plain": [
       "0      375263900.0\n",
       "1      283963900.0\n",
       "2      281463900.0\n",
       "3      192963900.0\n",
       "4      270963900.0\n",
       "          ...     \n",
       "995    -17136100.0\n",
       "996    -13336100.0\n",
       "997    -14736100.0\n",
       "998    -11136100.0\n",
       "999    -18636100.0\n",
       "Name: followers, Length: 1000, dtype: float64"
      ]
     },
     "execution_count": 15,
     "metadata": {},
     "output_type": "execute_result"
    }
   ],
   "source": [
    "dif_f = instagram[\"followers\"] - media_f\n",
    "dif_f"
   ]
  },
  {
   "cell_type": "code",
   "execution_count": 16,
   "metadata": {},
   "outputs": [
    {
     "data": {
      "text/plain": [
       "0      375263900.0\n",
       "1      283963900.0\n",
       "2      281463900.0\n",
       "3      192963900.0\n",
       "4      270963900.0\n",
       "          ...     \n",
       "995     17136100.0\n",
       "996     13336100.0\n",
       "997     14736100.0\n",
       "998     11136100.0\n",
       "999     18636100.0\n",
       "Name: followers, Length: 1000, dtype: float64"
      ]
     },
     "execution_count": 16,
     "metadata": {},
     "output_type": "execute_result"
    }
   ],
   "source": [
    "desviacion_f = np.abs(dif_f)\n",
    "desviacion_f"
   ]
  },
  {
   "attachments": {},
   "cell_type": "markdown",
   "metadata": {},
   "source": [
    "Calculamos la varianza y vemos que la desviación de todo el conjunto de datos respecto a la media es alta."
   ]
  },
  {
   "cell_type": "code",
   "execution_count": 17,
   "metadata": {},
   "outputs": [
    {
     "data": {
      "text/plain": [
       "1499349496286285.5"
      ]
     },
     "execution_count": 17,
     "metadata": {},
     "output_type": "execute_result"
    }
   ],
   "source": [
    "varianza_f = instagram[\"followers\"].var()\n",
    "varianza_f"
   ]
  },
  {
   "attachments": {},
   "cell_type": "markdown",
   "metadata": {},
   "source": [
    "Ahora observamos la desviación estándar de los followers y apreciamos que puede variar la media al alza si sumamos este parámetro a la propia media o a la baja si lo restamos."
   ]
  },
  {
   "cell_type": "code",
   "execution_count": 18,
   "metadata": {},
   "outputs": [
    {
     "data": {
      "text/plain": [
       "38721434.584559046"
      ]
     },
     "execution_count": 18,
     "metadata": {},
     "output_type": "execute_result"
    }
   ],
   "source": [
    "std_f = instagram[\"followers\"].std()\n",
    "std_f"
   ]
  },
  {
   "attachments": {},
   "cell_type": "markdown",
   "metadata": {},
   "source": [
    "La información que nos da la moda es que el valor que más se repite entre los followers es el indicado abajo."
   ]
  },
  {
   "cell_type": "code",
   "execution_count": 19,
   "metadata": {},
   "outputs": [
    {
     "data": {
      "text/plain": [
       "7800000.0"
      ]
     },
     "execution_count": 19,
     "metadata": {},
     "output_type": "execute_result"
    }
   ],
   "source": [
    "moda_f = instagram[\"followers\"].mode()[0]\n",
    "moda_f"
   ]
  },
  {
   "attachments": {},
   "cell_type": "markdown",
   "metadata": {},
   "source": [
    "Ahora observamos el valor que ocupa la posición central de nuestra columna. Se puede apreciar que la mediana nos muestra un valor más fiable que la media, ya que considera los valores centrales de nuestra columna."
   ]
  },
  {
   "cell_type": "code",
   "execution_count": 20,
   "metadata": {},
   "outputs": [
    {
     "data": {
      "text/plain": [
       "14400000.0"
      ]
     },
     "execution_count": 20,
     "metadata": {},
     "output_type": "execute_result"
    }
   ],
   "source": [
    "mediana_f = instagram[\"followers\"].median()\n",
    "mediana_f"
   ]
  },
  {
   "attachments": {},
   "cell_type": "markdown",
   "metadata": {},
   "source": [
    "La media ponderada nos aparece igual que la media porque, para este caso, no hemos tenido que incluirle ningún peso adicional."
   ]
  },
  {
   "cell_type": "code",
   "execution_count": 21,
   "metadata": {},
   "outputs": [
    {
     "data": {
      "text/plain": [
       "24836100.0"
      ]
     },
     "execution_count": 21,
     "metadata": {},
     "output_type": "execute_result"
    }
   ],
   "source": [
    "media_pond_f = np.average(instagram[\"followers\"])\n",
    "media_pond_f"
   ]
  },
  {
   "attachments": {},
   "cell_type": "markdown",
   "metadata": {},
   "source": [
    "Ahora observamos nuestro punto de ruptura dela varianza para conocer la robustez de nuestros datos, en este caso vemos que es alto."
   ]
  },
  {
   "cell_type": "code",
   "execution_count": 22,
   "metadata": {},
   "outputs": [
    {
     "data": {
      "text/plain": [
       "4.026397059119588e-08"
      ]
     },
     "execution_count": 22,
     "metadata": {},
     "output_type": "execute_result"
    }
   ],
   "source": [
    "#calculamos punto de ruptura de la varianza:\n",
    "n_f = instagram[\"followers\"].mean()\n",
    "punto_ruptura_f = 1/n_f\n",
    "punto_ruptura_f"
   ]
  },
  {
   "attachments": {},
   "cell_type": "markdown",
   "metadata": {},
   "source": [
    "Por último observamos el coeficiente de variación que nos muestra la relación entre la desviación típica y la media. Vemos que los datos son homogéneos, ya que el valor es bajo."
   ]
  },
  {
   "cell_type": "code",
   "execution_count": 23,
   "metadata": {},
   "outputs": [
    {
     "data": {
      "text/plain": [
       "0.6414044383031174"
      ]
     },
     "execution_count": 23,
     "metadata": {},
     "output_type": "execute_result"
    }
   ],
   "source": [
    "coeficiente_var_f = (media_f / std_f)\n",
    "coeficiente_var_f"
   ]
  },
  {
   "attachments": {},
   "cell_type": "markdown",
   "metadata": {},
   "source": [
    "Creamos un gráfico para la columna \"followers\", donde apreciamos la heterogeneidad de nuestros datos."
   ]
  },
  {
   "cell_type": "code",
   "execution_count": 24,
   "metadata": {},
   "outputs": [
    {
     "data": {
      "text/plain": [
       "<AxesSubplot: >"
      ]
     },
     "execution_count": 24,
     "metadata": {},
     "output_type": "execute_result"
    },
    {
     "data": {
      "image/png": "[encoded data removed]",
      "text/plain": [
       "<Figure size 1000x500 with 1 Axes>"
      ]
     },
     "metadata": {},
     "output_type": "display_data"
    }
   ],
   "source": [
    "fig = plt.figure(figsize = (10,5))\n",
    "\n",
    "sns.boxplot(instagram[\"followers\"])"
   ]
  },
  {
   "attachments": {},
   "cell_type": "markdown",
   "metadata": {},
   "source": [
    "Para la columna \"authentic_engagement\":"
   ]
  },
  {
   "attachments": {},
   "cell_type": "markdown",
   "metadata": {},
   "source": [
    "Calculamos la media."
   ]
  },
  {
   "cell_type": "code",
   "execution_count": 25,
   "metadata": {},
   "outputs": [
    {
     "data": {
      "text/plain": [
       "649122.8"
      ]
     },
     "execution_count": 25,
     "metadata": {},
     "output_type": "execute_result"
    }
   ],
   "source": [
    "media_a = instagram[\"authentic_engagement\"].mean()\n",
    "media_a"
   ]
  },
  {
   "attachments": {},
   "cell_type": "markdown",
   "metadata": {},
   "source": [
    "Calculamos la desviación con respecto a la media. \n",
    "\n",
    "Observamos que los dos primeros valores están más cerca de la media que el resto de datos en este ejemplo. Todo esto quiere decir que la media no nos ayuda en nuestro análisis ya que hay mucho margen entre los dos primeros registros y el resto."
   ]
  },
  {
   "cell_type": "code",
   "execution_count": 26,
   "metadata": {},
   "outputs": [
    {
     "data": {
      "text/plain": [
       "0      7150877.2\n",
       "1      5550877.2\n",
       "2      4150877.2\n",
       "3      2750877.2\n",
       "4      2050877.2\n",
       "         ...    \n",
       "995    -402522.8\n",
       "996    -502622.8\n",
       "997    -472622.8\n",
       "998    -502722.8\n",
       "999    -343522.8\n",
       "Name: authentic_engagement, Length: 1000, dtype: float64"
      ]
     },
     "execution_count": 26,
     "metadata": {},
     "output_type": "execute_result"
    }
   ],
   "source": [
    "dif_a = instagram[\"authentic_engagement\"] - media_a\n",
    "dif_a"
   ]
  },
  {
   "cell_type": "code",
   "execution_count": 27,
   "metadata": {},
   "outputs": [
    {
     "data": {
      "text/plain": [
       "0      7150877.2\n",
       "1      5550877.2\n",
       "2      4150877.2\n",
       "3      2750877.2\n",
       "4      2050877.2\n",
       "         ...    \n",
       "995     402522.8\n",
       "996     502622.8\n",
       "997     472622.8\n",
       "998     502722.8\n",
       "999     343522.8\n",
       "Name: authentic_engagement, Length: 1000, dtype: float64"
      ]
     },
     "execution_count": 27,
     "metadata": {},
     "output_type": "execute_result"
    }
   ],
   "source": [
    "desviacion_a = np.abs(dif_a)\n",
    "desviacion_a"
   ]
  },
  {
   "attachments": {},
   "cell_type": "markdown",
   "metadata": {},
   "source": [
    "Calculamos la varianza y vemos que la desviación de todo el conjunto de datos respecto a la media es muy alta."
   ]
  },
  {
   "cell_type": "code",
   "execution_count": 28,
   "metadata": {},
   "outputs": [
    {
     "data": {
      "text/plain": [
       "1207369145805.9666"
      ]
     },
     "execution_count": 28,
     "metadata": {},
     "output_type": "execute_result"
    }
   ],
   "source": [
    "varianza_a = instagram[\"authentic_engagement\"].var()\n",
    "varianza_a"
   ]
  },
  {
   "attachments": {},
   "cell_type": "markdown",
   "metadata": {},
   "source": [
    "Ahora observamos la desviación estándar del engagement y apreciamos que puede variar la media al alza si sumamos este parámetro a la propia media o a la baja si lo restamos."
   ]
  },
  {
   "cell_type": "code",
   "execution_count": 29,
   "metadata": {},
   "outputs": [
    {
     "data": {
      "text/plain": [
       "1098803.5064587146"
      ]
     },
     "execution_count": 29,
     "metadata": {},
     "output_type": "execute_result"
    }
   ],
   "source": [
    "std_a = instagram[\"authentic_engagement\"].std()\n",
    "std_a"
   ]
  },
  {
   "attachments": {},
   "cell_type": "markdown",
   "metadata": {},
   "source": [
    "La información que nos da la moda es que el valor que más se repite entre la interacción es el indicado abajo."
   ]
  },
  {
   "cell_type": "code",
   "execution_count": 30,
   "metadata": {},
   "outputs": [
    {
     "data": {
      "text/plain": [
       "1100000.0"
      ]
     },
     "execution_count": 30,
     "metadata": {},
     "output_type": "execute_result"
    }
   ],
   "source": [
    "moda_a = instagram[\"authentic_engagement\"].mode()[0]\n",
    "moda_a"
   ]
  },
  {
   "attachments": {},
   "cell_type": "markdown",
   "metadata": {},
   "source": [
    "Ahora observamos el valor que ocupa la posición central de nuestra columna. Se puede apreciar que la mediana nos muestra un valor más fiable que la media, ya que considera los valores centrales de nuestra columna."
   ]
  },
  {
   "cell_type": "code",
   "execution_count": 31,
   "metadata": {},
   "outputs": [
    {
     "data": {
      "text/plain": [
       "363700.0"
      ]
     },
     "execution_count": 31,
     "metadata": {},
     "output_type": "execute_result"
    }
   ],
   "source": [
    "mediana_a = instagram[\"authentic_engagement\"].median()\n",
    "mediana_a"
   ]
  },
  {
   "attachments": {},
   "cell_type": "markdown",
   "metadata": {},
   "source": [
    "La media ponderada nos aparece igual que la media porque, para este caso, no hemos tenido que incluirle ningún peso adicional."
   ]
  },
  {
   "cell_type": "code",
   "execution_count": 32,
   "metadata": {},
   "outputs": [
    {
     "data": {
      "text/plain": [
       "649122.8"
      ]
     },
     "execution_count": 32,
     "metadata": {},
     "output_type": "execute_result"
    }
   ],
   "source": [
    "media_pond_a = np.average(instagram[\"authentic_engagement\"])\n",
    "media_pond_a"
   ]
  },
  {
   "attachments": {},
   "cell_type": "markdown",
   "metadata": {},
   "source": [
    "Ahora observamos nuestro punto de ruptura dela varianza para conocer la robustez de nuestros datos, en este caso vemos que es más bajo que para los followers."
   ]
  },
  {
   "cell_type": "code",
   "execution_count": 33,
   "metadata": {},
   "outputs": [
    {
     "data": {
      "text/plain": [
       "1.540540557195033e-06"
      ]
     },
     "execution_count": 33,
     "metadata": {},
     "output_type": "execute_result"
    }
   ],
   "source": [
    "\n",
    "n_a = instagram[\"authentic_engagement\"].mean()\n",
    "punto_ruptura_a = 1/n_a\n",
    "punto_ruptura_a"
   ]
  },
  {
   "attachments": {},
   "cell_type": "markdown",
   "metadata": {},
   "source": [
    "Por último observamos el coeficiente de variación que nos muestra la relación entre la desviación típica y la media. Vemos que los datos son homogéneos, ya que el valor es bajo."
   ]
  },
  {
   "cell_type": "code",
   "execution_count": 34,
   "metadata": {},
   "outputs": [
    {
     "data": {
      "text/plain": [
       "0.5907542123632544"
      ]
     },
     "execution_count": 34,
     "metadata": {},
     "output_type": "execute_result"
    }
   ],
   "source": [
    "coeficiente_var_a = (media_a/std_a)\n",
    "coeficiente_var_a"
   ]
  },
  {
   "attachments": {},
   "cell_type": "markdown",
   "metadata": {},
   "source": [
    "Creamos un gráfico para la columna \"authentic_engagement\", donde apreciamos la heterogeneidad de nuestros datos (por ejemplo, la cantidad de outliers que aparecen)."
   ]
  },
  {
   "cell_type": "code",
   "execution_count": 37,
   "metadata": {},
   "outputs": [
    {
     "data": {
      "image/png": "[encoded data removed]",
      "text/plain": [
       "<Figure size 1000x500 with 1 Axes>"
      ]
     },
     "metadata": {},
     "output_type": "display_data"
    }
   ],
   "source": [
    "fig = plt.figure(figsize = (10,5))\n",
    "\n",
    "sns.boxplot( x = instagram[\"authentic_engagement\"])\n",
    "\n",
    "plt.show()"
   ]
  },
  {
   "attachments": {},
   "cell_type": "markdown",
   "metadata": {},
   "source": [
    "3 - Interpretación de los resultados.\n",
    "Ahora interpreta los resultados obtenidos de los diferentes estadísticos estudiados haciendo hincapié en aspectos interesantes de tus datos y explica lo mejor posible la naturaleza de los mismos."
   ]
  },
  {
   "attachments": {},
   "cell_type": "markdown",
   "metadata": {},
   "source": [
    "- Vamos interpretando nuestros resultados a medida que resolvemos los ejercicios."
   ]
  },
  {
   "cell_type": "code",
   "execution_count": 36,
   "metadata": {},
   "outputs": [],
   "source": [
    "#guardamos el fichero con los cambios realizados al inicio de este jupyter.\n",
    "instagram.to_csv(\"./Datasets/instagram_gloabal2.csv\")"
   ]
  }
 ],
 "metadata": {
  "kernelspec": {
   "display_name": "Python 3",
   "language": "python",
   "name": "python3"
  },
  "language_info": {
   "codemirror_mode": {
    "name": "ipython",
    "version": 3
   },
   "file_extension": ".py",
   "mimetype": "text/x-python",
   "name": "python",
   "nbconvert_exporter": "python",
   "pygments_lexer": "ipython3",
   "version": "3.10.9"
  },
  "orig_nbformat": 4,
  "vscode": {
   "interpreter": {
    "hash": "74ce4e106c5f3fb5408a2b59926dbdd162e96cafe5f5c54fb66c999b373c7a81"
   }
  }
 },
 "nbformat": 4,
 "nbformat_minor": 2
}

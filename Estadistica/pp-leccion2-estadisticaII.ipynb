{
 "cells": [
  {
   "attachments": {},
   "cell_type": "markdown",
   "metadata": {},
   "source": [
    "# Ejercicios Pair Programming - Módulo 2 Sprint 1\n",
    "## Lección 2 - Estadística II\n",
    "### Noemi Azorin y Silvia Gordón"
   ]
  },
  {
   "cell_type": "code",
   "execution_count": 1,
   "metadata": {},
   "outputs": [],
   "source": [
    "import numpy as np\n",
    "import pandas as pd\n",
    "import seaborn as sns\n",
    "import matplotlib.pyplot as plt"
   ]
  },
  {
   "attachments": {},
   "cell_type": "markdown",
   "metadata": {},
   "source": [
    "Vamos ahora a tomar de nuevo el conjunto de datos con el que estuvimos trabajando ayer y vamos a continuar con el análisis de las estadísitcas de los contenidos del conjunto de datos\n",
    "Para todas los ejercicios de pair programming de Estadística I, II y III usaremos el dataframe que se tome para el desarrollo de este ejercicio de pair programming."
   ]
  },
  {
   "cell_type": "code",
   "execution_count": 4,
   "metadata": {},
   "outputs": [
    {
     "data": {
      "text/html": [
       "<div>\n",
       "<style scoped>\n",
       "    .dataframe tbody tr th:only-of-type {\n",
       "        vertical-align: middle;\n",
       "    }\n",
       "\n",
       "    .dataframe tbody tr th {\n",
       "        vertical-align: top;\n",
       "    }\n",
       "\n",
       "    .dataframe thead th {\n",
       "        text-align: right;\n",
       "    }\n",
       "</style>\n",
       "<table border=\"1\" class=\"dataframe\">\n",
       "  <thead>\n",
       "    <tr style=\"text-align: right;\">\n",
       "      <th></th>\n",
       "      <th>Unnamed: 0</th>\n",
       "      <th>country</th>\n",
       "      <th>rank</th>\n",
       "      <th>account</th>\n",
       "      <th>title</th>\n",
       "      <th>link</th>\n",
       "      <th>category</th>\n",
       "      <th>followers</th>\n",
       "      <th>audience_country</th>\n",
       "      <th>authentic_engagement</th>\n",
       "    </tr>\n",
       "  </thead>\n",
       "  <tbody>\n",
       "    <tr>\n",
       "      <th>0</th>\n",
       "      <td>0</td>\n",
       "      <td>All</td>\n",
       "      <td>1</td>\n",
       "      <td>cristiano</td>\n",
       "      <td>Cristiano Ronaldo</td>\n",
       "      <td>https://www.instagram.com/cristiano/</td>\n",
       "      <td>Sports with a ball</td>\n",
       "      <td>400100000.0</td>\n",
       "      <td>India</td>\n",
       "      <td>7800000.0</td>\n",
       "    </tr>\n",
       "    <tr>\n",
       "      <th>1</th>\n",
       "      <td>1</td>\n",
       "      <td>All</td>\n",
       "      <td>2</td>\n",
       "      <td>kyliejenner</td>\n",
       "      <td>Kylie 🤍</td>\n",
       "      <td>https://www.instagram.com/kyliejenner/</td>\n",
       "      <td>Fashion|Modeling|Beauty</td>\n",
       "      <td>308800000.0</td>\n",
       "      <td>United States</td>\n",
       "      <td>6200000.0</td>\n",
       "    </tr>\n",
       "    <tr>\n",
       "      <th>2</th>\n",
       "      <td>2</td>\n",
       "      <td>All</td>\n",
       "      <td>3</td>\n",
       "      <td>leomessi</td>\n",
       "      <td>Leo Messi</td>\n",
       "      <td>https://www.instagram.com/leomessi/</td>\n",
       "      <td>Sports with a ball|Family</td>\n",
       "      <td>306300000.0</td>\n",
       "      <td>Argentina</td>\n",
       "      <td>4800000.0</td>\n",
       "    </tr>\n",
       "    <tr>\n",
       "      <th>3</th>\n",
       "      <td>3</td>\n",
       "      <td>All</td>\n",
       "      <td>4</td>\n",
       "      <td>kendalljenner</td>\n",
       "      <td>Kendall</td>\n",
       "      <td>https://www.instagram.com/kendalljenner/</td>\n",
       "      <td>Modeling|Fashion</td>\n",
       "      <td>217800000.0</td>\n",
       "      <td>United States</td>\n",
       "      <td>3400000.0</td>\n",
       "    </tr>\n",
       "    <tr>\n",
       "      <th>4</th>\n",
       "      <td>4</td>\n",
       "      <td>All</td>\n",
       "      <td>5</td>\n",
       "      <td>selenagomez</td>\n",
       "      <td>Selena Gomez</td>\n",
       "      <td>https://www.instagram.com/selenagomez/</td>\n",
       "      <td>Music|Lifestyle</td>\n",
       "      <td>295800000.0</td>\n",
       "      <td>United States</td>\n",
       "      <td>2700000.0</td>\n",
       "    </tr>\n",
       "  </tbody>\n",
       "</table>\n",
       "</div>"
      ],
      "text/plain": [
       "   Unnamed: 0 country  rank        account              title  \\\n",
       "0           0     All     1      cristiano  Cristiano Ronaldo   \n",
       "1           1     All     2    kyliejenner            Kylie 🤍   \n",
       "2           2     All     3       leomessi          Leo Messi   \n",
       "3           3     All     4  kendalljenner            Kendall   \n",
       "4           4     All     5    selenagomez       Selena Gomez   \n",
       "\n",
       "                                       link                   category  \\\n",
       "0      https://www.instagram.com/cristiano/         Sports with a ball   \n",
       "1    https://www.instagram.com/kyliejenner/    Fashion|Modeling|Beauty   \n",
       "2       https://www.instagram.com/leomessi/  Sports with a ball|Family   \n",
       "3  https://www.instagram.com/kendalljenner/           Modeling|Fashion   \n",
       "4    https://www.instagram.com/selenagomez/            Music|Lifestyle   \n",
       "\n",
       "     followers audience_country  authentic_engagement  \n",
       "0  400100000.0            India             7800000.0  \n",
       "1  308800000.0    United States             6200000.0  \n",
       "2  306300000.0        Argentina             4800000.0  \n",
       "3  217800000.0    United States             3400000.0  \n",
       "4  295800000.0    United States             2700000.0  "
      ]
     },
     "execution_count": 4,
     "metadata": {},
     "output_type": "execute_result"
    }
   ],
   "source": [
    "instagram2 = pd.read_csv(\"./Datasets/instagram_gloabal2.csv\")\n",
    "instagram2.head()"
   ]
  },
  {
   "attachments": {},
   "cell_type": "markdown",
   "metadata": {},
   "source": [
    "1 - Extraer los siguentes estadísiticos del conjunto de datos para varias de las varibles disponibles:\n",
    "- Utilizando métodos de pandas: media, mediana, moda, máximo y mínimo\n",
    "- Percentiles 25, 75\n",
    "- Rango Intercualtílico\n",
    "- Boxplot de algunas variables\n",
    "- Tabla de frecuencias\n",
    "- Variables cualitativas\n",
    "- Variables cuantitativas\n",
    "- Frecuencia acumulada\n",
    "- Representación de al menos una tabla de frecuencias"
   ]
  },
  {
   "attachments": {},
   "cell_type": "markdown",
   "metadata": {},
   "source": [
    "Empezamos sacando la media, mediana, moda, max y min para la columna \"followers\"."
   ]
  },
  {
   "cell_type": "code",
   "execution_count": 8,
   "metadata": {},
   "outputs": [
    {
     "name": "stdout",
     "output_type": "stream",
     "text": [
      "24836100.0\n",
      "14400000.0\n",
      "7800000.0\n",
      "469600000.0\n",
      "2800000.0\n"
     ]
    }
   ],
   "source": [
    "media = print(instagram2[\"followers\"].mean())\n",
    "mediana = print(instagram2[\"followers\"].median())\n",
    "moda = print(instagram2[\"followers\"].mode()[0])\n",
    "maximo = print(instagram2[\"followers\"].max())\n",
    "minimo = print(instagram2[\"followers\"].min())"
   ]
  },
  {
   "attachments": {},
   "cell_type": "markdown",
   "metadata": {},
   "source": [
    "Calculamos el cuartil 25 y el 75. Con el cuartil 1 comprobamos que el 25 % de los datos es inferior a 9000000.0."
   ]
  },
  {
   "cell_type": "code",
   "execution_count": 9,
   "metadata": {},
   "outputs": [
    {
     "data": {
      "text/plain": [
       "9000000.0"
      ]
     },
     "execution_count": 9,
     "metadata": {},
     "output_type": "execute_result"
    }
   ],
   "source": [
    "percentil25 = np.nanpercentile(instagram2[\"followers\"], 25)\n",
    "percentil25"
   ]
  },
  {
   "attachments": {},
   "cell_type": "markdown",
   "metadata": {},
   "source": [
    " Con el cuartil 3 comprobamos que el 75 % de los datos es inferior a 25650000.0."
   ]
  },
  {
   "cell_type": "code",
   "execution_count": 10,
   "metadata": {},
   "outputs": [
    {
     "data": {
      "text/plain": [
       "25650000.0"
      ]
     },
     "execution_count": 10,
     "metadata": {},
     "output_type": "execute_result"
    }
   ],
   "source": [
    "percentil75 = np.nanpercentile(instagram2[\"followers\"], 75)\n",
    "percentil75"
   ]
  },
  {
   "attachments": {},
   "cell_type": "markdown",
   "metadata": {},
   "source": [
    "Sacamos el cuartil 2 y observamos que es igual a la mediana, es decir, correspondería a que el 50 % de nuestros datos es inferior a 14400000.0 y mayor al mismo."
   ]
  },
  {
   "cell_type": "code",
   "execution_count": 11,
   "metadata": {},
   "outputs": [
    {
     "data": {
      "text/plain": [
       "14400000.0"
      ]
     },
     "execution_count": 11,
     "metadata": {},
     "output_type": "execute_result"
    }
   ],
   "source": [
    "percentil50 = np.nanpercentile(instagram2[\"followers\"], 50)\n",
    "percentil50"
   ]
  },
  {
   "attachments": {},
   "cell_type": "markdown",
   "metadata": {},
   "source": [
    "Sacamos el rango intercuartílico que lo usaremos para identificar los outliers."
   ]
  },
  {
   "cell_type": "code",
   "execution_count": 12,
   "metadata": {},
   "outputs": [
    {
     "data": {
      "text/plain": [
       "16650000.0"
      ]
     },
     "execution_count": 12,
     "metadata": {},
     "output_type": "execute_result"
    }
   ],
   "source": [
    "inter = percentil75 - percentil25 \n",
    "inter"
   ]
  },
  {
   "attachments": {},
   "cell_type": "markdown",
   "metadata": {},
   "source": [
    "Creamos el boxplot para la variable \"followers\".\n",
    "\n",
    "Como se puede observar en la gráfica, tenemos muchos outliers. Esto quiere decir que el conjunto de datos está dividido de manera muy desigual, debido a que la mediana la realiza considerando datos muy heterogéneos.\n",
    "\n",
    "Si apreciamos el top1 y el top100 vemos que hay una diferencia abismal entre ellos."
   ]
  },
  {
   "cell_type": "code",
   "execution_count": 13,
   "metadata": {},
   "outputs": [
    {
     "data": {
      "image/png": "[encoded data removed]",
      "text/plain": [
       "<Figure size 1000x500 with 1 Axes>"
      ]
     },
     "metadata": {},
     "output_type": "display_data"
    }
   ],
   "source": [
    "fig = plt.figure(figsize = (10,5))\n",
    "\n",
    "sns.boxplot(x = instagram2[\"followers\"])\n",
    "\n",
    "plt.show()"
   ]
  },
  {
   "attachments": {},
   "cell_type": "markdown",
   "metadata": {},
   "source": [
    "Creamos boxplot para la variable \"authentic_engagement\".\n",
    "\n",
    "Como se puede observar en la gráfica, tenemos muchos menos outliers que en la anterior. Esto quiere decir que la interacción es mayor, ya que los datos que presentamos son más homogéneos.\n",
    "\n",
    "Si apreciamos el top1 y el top100 vemos que no hay ya una diferencia tan grande entre ellos."
   ]
  },
  {
   "cell_type": "code",
   "execution_count": 30,
   "metadata": {},
   "outputs": [
    {
     "data": {
      "image/png": "[encoded data removed]",
      "text/plain": [
       "<Figure size 1000x500 with 1 Axes>"
      ]
     },
     "metadata": {},
     "output_type": "display_data"
    }
   ],
   "source": [
    "fig = plt.figure(figsize = (10,5))\n",
    "\n",
    "sns.boxplot(x = instagram2[\"authentic_engagement\"])\n",
    "\n",
    "plt.show()"
   ]
  },
  {
   "attachments": {},
   "cell_type": "markdown",
   "metadata": {},
   "source": [
    "Tabla de frecuencias absoluta con variables categóricas (cualitativas)"
   ]
  },
  {
   "attachments": {},
   "cell_type": "markdown",
   "metadata": {},
   "source": [
    "Con la siguiente tabla de frecuencias absolutas, tras agrupar por \"audience_country\", vemos que nos devuelve en todas las columnas el mismo valor (en algunas difiere porque hay valores nulos). Por lo tanto, no nos aporta información decisiva."
   ]
  },
  {
   "cell_type": "code",
   "execution_count": 15,
   "metadata": {},
   "outputs": [
    {
     "data": {
      "text/html": [
       "<div>\n",
       "<style scoped>\n",
       "    .dataframe tbody tr th:only-of-type {\n",
       "        vertical-align: middle;\n",
       "    }\n",
       "\n",
       "    .dataframe tbody tr th {\n",
       "        vertical-align: top;\n",
       "    }\n",
       "\n",
       "    .dataframe thead th {\n",
       "        text-align: right;\n",
       "    }\n",
       "</style>\n",
       "<table border=\"1\" class=\"dataframe\">\n",
       "  <thead>\n",
       "    <tr style=\"text-align: right;\">\n",
       "      <th></th>\n",
       "      <th>audience_country</th>\n",
       "      <th>Unnamed: 0</th>\n",
       "      <th>country</th>\n",
       "      <th>rank</th>\n",
       "      <th>account</th>\n",
       "      <th>title</th>\n",
       "      <th>link</th>\n",
       "      <th>category</th>\n",
       "      <th>followers</th>\n",
       "      <th>authentic_engagement</th>\n",
       "    </tr>\n",
       "  </thead>\n",
       "  <tbody>\n",
       "    <tr>\n",
       "      <th>0</th>\n",
       "      <td>Algeria</td>\n",
       "      <td>1</td>\n",
       "      <td>1</td>\n",
       "      <td>1</td>\n",
       "      <td>1</td>\n",
       "      <td>1</td>\n",
       "      <td>1</td>\n",
       "      <td>1</td>\n",
       "      <td>1</td>\n",
       "      <td>1</td>\n",
       "    </tr>\n",
       "    <tr>\n",
       "      <th>1</th>\n",
       "      <td>Argentina</td>\n",
       "      <td>24</td>\n",
       "      <td>24</td>\n",
       "      <td>24</td>\n",
       "      <td>24</td>\n",
       "      <td>23</td>\n",
       "      <td>24</td>\n",
       "      <td>22</td>\n",
       "      <td>24</td>\n",
       "      <td>24</td>\n",
       "    </tr>\n",
       "    <tr>\n",
       "      <th>2</th>\n",
       "      <td>Brazil</td>\n",
       "      <td>161</td>\n",
       "      <td>161</td>\n",
       "      <td>161</td>\n",
       "      <td>161</td>\n",
       "      <td>159</td>\n",
       "      <td>161</td>\n",
       "      <td>150</td>\n",
       "      <td>161</td>\n",
       "      <td>161</td>\n",
       "    </tr>\n",
       "    <tr>\n",
       "      <th>3</th>\n",
       "      <td>Chile</td>\n",
       "      <td>1</td>\n",
       "      <td>1</td>\n",
       "      <td>1</td>\n",
       "      <td>1</td>\n",
       "      <td>1</td>\n",
       "      <td>1</td>\n",
       "      <td>1</td>\n",
       "      <td>1</td>\n",
       "      <td>1</td>\n",
       "    </tr>\n",
       "    <tr>\n",
       "      <th>4</th>\n",
       "      <td>China</td>\n",
       "      <td>1</td>\n",
       "      <td>1</td>\n",
       "      <td>1</td>\n",
       "      <td>1</td>\n",
       "      <td>1</td>\n",
       "      <td>1</td>\n",
       "      <td>1</td>\n",
       "      <td>1</td>\n",
       "      <td>1</td>\n",
       "    </tr>\n",
       "  </tbody>\n",
       "</table>\n",
       "</div>"
      ],
      "text/plain": [
       "  audience_country  Unnamed: 0  country  rank  account  title  link  category  \\\n",
       "0          Algeria           1        1     1        1      1     1         1   \n",
       "1        Argentina          24       24    24       24     23    24        22   \n",
       "2           Brazil         161      161   161      161    159   161       150   \n",
       "3            Chile           1        1     1        1      1     1         1   \n",
       "4            China           1        1     1        1      1     1         1   \n",
       "\n",
       "   followers  authentic_engagement  \n",
       "0          1                     1  \n",
       "1         24                    24  \n",
       "2        161                   161  \n",
       "3          1                     1  \n",
       "4          1                     1  "
      ]
     },
     "execution_count": 15,
     "metadata": {},
     "output_type": "execute_result"
    }
   ],
   "source": [
    "df_instagram2 = instagram2.groupby(\"audience_country\").count().reset_index()\n",
    "df_instagram2.head()"
   ]
  },
  {
   "attachments": {},
   "cell_type": "markdown",
   "metadata": {},
   "source": [
    "Tabla de frecuencias absoluta de variables numéricas (cuantitativas)"
   ]
  },
  {
   "attachments": {},
   "cell_type": "markdown",
   "metadata": {},
   "source": [
    "Lo que entendemos en la siguiente tabla, el 0.32 para followers, es el que más aparece en las columnas (un total de 6 veces)."
   ]
  },
  {
   "cell_type": "code",
   "execution_count": 28,
   "metadata": {},
   "outputs": [
    {
     "data": {
      "text/html": [
       "<div>\n",
       "<style scoped>\n",
       "    .dataframe tbody tr th:only-of-type {\n",
       "        vertical-align: middle;\n",
       "    }\n",
       "\n",
       "    .dataframe tbody tr th {\n",
       "        vertical-align: top;\n",
       "    }\n",
       "\n",
       "    .dataframe thead th {\n",
       "        text-align: right;\n",
       "    }\n",
       "</style>\n",
       "<table border=\"1\" class=\"dataframe\">\n",
       "  <thead>\n",
       "    <tr style=\"text-align: right;\">\n",
       "      <th></th>\n",
       "      <th>followers</th>\n",
       "      <th>Unnamed: 0</th>\n",
       "      <th>country</th>\n",
       "      <th>rank</th>\n",
       "      <th>account</th>\n",
       "      <th>title</th>\n",
       "      <th>link</th>\n",
       "      <th>category</th>\n",
       "      <th>audience_country</th>\n",
       "      <th>authentic_engagement</th>\n",
       "    </tr>\n",
       "  </thead>\n",
       "  <tbody>\n",
       "    <tr>\n",
       "      <th>0</th>\n",
       "      <td>0.322581</td>\n",
       "      <td>6</td>\n",
       "      <td>6</td>\n",
       "      <td>6</td>\n",
       "      <td>6</td>\n",
       "      <td>6</td>\n",
       "      <td>6</td>\n",
       "      <td>4</td>\n",
       "      <td>5</td>\n",
       "      <td>6</td>\n",
       "    </tr>\n",
       "    <tr>\n",
       "      <th>3</th>\n",
       "      <td>1.290323</td>\n",
       "      <td>3</td>\n",
       "      <td>3</td>\n",
       "      <td>3</td>\n",
       "      <td>3</td>\n",
       "      <td>3</td>\n",
       "      <td>3</td>\n",
       "      <td>2</td>\n",
       "      <td>2</td>\n",
       "      <td>3</td>\n",
       "    </tr>\n",
       "    <tr>\n",
       "      <th>1</th>\n",
       "      <td>0.645161</td>\n",
       "      <td>3</td>\n",
       "      <td>3</td>\n",
       "      <td>3</td>\n",
       "      <td>3</td>\n",
       "      <td>3</td>\n",
       "      <td>3</td>\n",
       "      <td>2</td>\n",
       "      <td>3</td>\n",
       "      <td>3</td>\n",
       "    </tr>\n",
       "    <tr>\n",
       "      <th>5</th>\n",
       "      <td>1.935484</td>\n",
       "      <td>2</td>\n",
       "      <td>2</td>\n",
       "      <td>2</td>\n",
       "      <td>2</td>\n",
       "      <td>2</td>\n",
       "      <td>2</td>\n",
       "      <td>2</td>\n",
       "      <td>2</td>\n",
       "      <td>2</td>\n",
       "    </tr>\n",
       "    <tr>\n",
       "      <th>11</th>\n",
       "      <td>5.483871</td>\n",
       "      <td>2</td>\n",
       "      <td>2</td>\n",
       "      <td>2</td>\n",
       "      <td>2</td>\n",
       "      <td>2</td>\n",
       "      <td>2</td>\n",
       "      <td>2</td>\n",
       "      <td>2</td>\n",
       "      <td>2</td>\n",
       "    </tr>\n",
       "  </tbody>\n",
       "</table>\n",
       "</div>"
      ],
      "text/plain": [
       "    followers  Unnamed: 0  country  rank  account  title  link  category  \\\n",
       "0    0.322581           6        6     6        6      6     6         4   \n",
       "3    1.290323           3        3     3        3      3     3         2   \n",
       "1    0.645161           3        3     3        3      3     3         2   \n",
       "5    1.935484           2        2     2        2      2     2         2   \n",
       "11   5.483871           2        2     2        2      2     2         2   \n",
       "\n",
       "    audience_country  authentic_engagement  \n",
       "0                  5                     6  \n",
       "3                  2                     3  \n",
       "1                  3                     3  \n",
       "5                  2                     2  \n",
       "11                 2                     2  "
      ]
     },
     "execution_count": 28,
     "metadata": {},
     "output_type": "execute_result"
    }
   ],
   "source": [
    "df_instagram3 = instagram2.groupby(\"followers\").count().reset_index().sort_values(by = \"title\", ascending = False)\n",
    "df_instagram3.head()"
   ]
  },
  {
   "attachments": {},
   "cell_type": "markdown",
   "metadata": {},
   "source": [
    "Tabla de frecuencias relativa"
   ]
  },
  {
   "attachments": {},
   "cell_type": "markdown",
   "metadata": {},
   "source": [
    "Para conocer la frecuencia relativa de nuestro dataset, primero eliminamos las columnas categóricas y después dividimos el dataset nuevo entre las filas del dataset completo y multiplicamos por 100 para obtener un porcentaje. Por último, para que nos aparezcan también las variables categóricas, hemos sobreescrito las columnas del primer DF."
   ]
  },
  {
   "cell_type": "code",
   "execution_count": 17,
   "metadata": {},
   "outputs": [
    {
     "data": {
      "text/html": [
       "<div>\n",
       "<style scoped>\n",
       "    .dataframe tbody tr th:only-of-type {\n",
       "        vertical-align: middle;\n",
       "    }\n",
       "\n",
       "    .dataframe tbody tr th {\n",
       "        vertical-align: top;\n",
       "    }\n",
       "\n",
       "    .dataframe thead th {\n",
       "        text-align: right;\n",
       "    }\n",
       "</style>\n",
       "<table border=\"1\" class=\"dataframe\">\n",
       "  <thead>\n",
       "    <tr style=\"text-align: right;\">\n",
       "      <th></th>\n",
       "      <th>Unnamed: 0</th>\n",
       "      <th>rank</th>\n",
       "      <th>followers</th>\n",
       "      <th>authentic_engagement</th>\n",
       "    </tr>\n",
       "  </thead>\n",
       "  <tbody>\n",
       "    <tr>\n",
       "      <th>0</th>\n",
       "      <td>1</td>\n",
       "      <td>1</td>\n",
       "      <td>1</td>\n",
       "      <td>1</td>\n",
       "    </tr>\n",
       "    <tr>\n",
       "      <th>1</th>\n",
       "      <td>24</td>\n",
       "      <td>24</td>\n",
       "      <td>24</td>\n",
       "      <td>24</td>\n",
       "    </tr>\n",
       "    <tr>\n",
       "      <th>2</th>\n",
       "      <td>161</td>\n",
       "      <td>161</td>\n",
       "      <td>161</td>\n",
       "      <td>161</td>\n",
       "    </tr>\n",
       "    <tr>\n",
       "      <th>3</th>\n",
       "      <td>1</td>\n",
       "      <td>1</td>\n",
       "      <td>1</td>\n",
       "      <td>1</td>\n",
       "    </tr>\n",
       "    <tr>\n",
       "      <th>4</th>\n",
       "      <td>1</td>\n",
       "      <td>1</td>\n",
       "      <td>1</td>\n",
       "      <td>1</td>\n",
       "    </tr>\n",
       "  </tbody>\n",
       "</table>\n",
       "</div>"
      ],
      "text/plain": [
       "   Unnamed: 0  rank  followers  authentic_engagement\n",
       "0           1     1          1                     1\n",
       "1          24    24         24                    24\n",
       "2         161   161        161                   161\n",
       "3           1     1          1                     1\n",
       "4           1     1          1                     1"
      ]
     },
     "execution_count": 17,
     "metadata": {},
     "output_type": "execute_result"
    }
   ],
   "source": [
    "df_nuevo = df_instagram2.drop(columns = [\"country\",\"account\",\"title\", \"link\",\"category\",\"audience_country\"], axis=1)\n",
    "df_nuevo.head()"
   ]
  },
  {
   "cell_type": "code",
   "execution_count": 21,
   "metadata": {},
   "outputs": [
    {
     "data": {
      "text/html": [
       "<div>\n",
       "<style scoped>\n",
       "    .dataframe tbody tr th:only-of-type {\n",
       "        vertical-align: middle;\n",
       "    }\n",
       "\n",
       "    .dataframe tbody tr th {\n",
       "        vertical-align: top;\n",
       "    }\n",
       "\n",
       "    .dataframe thead th {\n",
       "        text-align: right;\n",
       "    }\n",
       "</style>\n",
       "<table border=\"1\" class=\"dataframe\">\n",
       "  <thead>\n",
       "    <tr style=\"text-align: right;\">\n",
       "      <th></th>\n",
       "      <th>Unnamed: 0</th>\n",
       "      <th>rank</th>\n",
       "      <th>followers</th>\n",
       "      <th>authentic_engagement</th>\n",
       "    </tr>\n",
       "  </thead>\n",
       "  <tbody>\n",
       "    <tr>\n",
       "      <th>0</th>\n",
       "      <td>0.322581</td>\n",
       "      <td>0.322581</td>\n",
       "      <td>0.322581</td>\n",
       "      <td>0.322581</td>\n",
       "    </tr>\n",
       "    <tr>\n",
       "      <th>1</th>\n",
       "      <td>7.741935</td>\n",
       "      <td>7.741935</td>\n",
       "      <td>7.741935</td>\n",
       "      <td>7.741935</td>\n",
       "    </tr>\n",
       "    <tr>\n",
       "      <th>2</th>\n",
       "      <td>51.935484</td>\n",
       "      <td>51.935484</td>\n",
       "      <td>51.935484</td>\n",
       "      <td>51.935484</td>\n",
       "    </tr>\n",
       "    <tr>\n",
       "      <th>3</th>\n",
       "      <td>0.322581</td>\n",
       "      <td>0.322581</td>\n",
       "      <td>0.322581</td>\n",
       "      <td>0.322581</td>\n",
       "    </tr>\n",
       "    <tr>\n",
       "      <th>4</th>\n",
       "      <td>0.322581</td>\n",
       "      <td>0.322581</td>\n",
       "      <td>0.322581</td>\n",
       "      <td>0.322581</td>\n",
       "    </tr>\n",
       "  </tbody>\n",
       "</table>\n",
       "</div>"
      ],
      "text/plain": [
       "   Unnamed: 0       rank  followers  authentic_engagement\n",
       "0    0.322581   0.322581   0.322581              0.322581\n",
       "1    7.741935   7.741935   7.741935              7.741935\n",
       "2   51.935484  51.935484  51.935484             51.935484\n",
       "3    0.322581   0.322581   0.322581              0.322581\n",
       "4    0.322581   0.322581   0.322581              0.322581"
      ]
     },
     "execution_count": 21,
     "metadata": {},
     "output_type": "execute_result"
    }
   ],
   "source": [
    "frecuencia_rel = (df_nuevo/instagram2.shape[0])*100\n",
    "frecuencia_rel.head()"
   ]
  },
  {
   "attachments": {},
   "cell_type": "markdown",
   "metadata": {},
   "source": [
    "Aquí podemos apreciar que en el caso de \"Leo Messi\" la audiencia mayoritaria (con un 52 % aprox.) se encuentra en Argentina, es decir, más de la mitad de sus followers viven en Argentina. Comparandolo con \"Cristiano Ronaldo\", se aprecia que donde tiene más seguidores es en Índia, pero es un valor muy bajo, lo cuál nos indica que sus followers están más dispersos en el mundo."
   ]
  },
  {
   "cell_type": "code",
   "execution_count": 23,
   "metadata": {},
   "outputs": [
    {
     "data": {
      "text/html": [
       "<div>\n",
       "<style scoped>\n",
       "    .dataframe tbody tr th:only-of-type {\n",
       "        vertical-align: middle;\n",
       "    }\n",
       "\n",
       "    .dataframe tbody tr th {\n",
       "        vertical-align: top;\n",
       "    }\n",
       "\n",
       "    .dataframe thead th {\n",
       "        text-align: right;\n",
       "    }\n",
       "</style>\n",
       "<table border=\"1\" class=\"dataframe\">\n",
       "  <thead>\n",
       "    <tr style=\"text-align: right;\">\n",
       "      <th></th>\n",
       "      <th>Unnamed: 0</th>\n",
       "      <th>country</th>\n",
       "      <th>rank</th>\n",
       "      <th>account</th>\n",
       "      <th>title</th>\n",
       "      <th>link</th>\n",
       "      <th>category</th>\n",
       "      <th>followers</th>\n",
       "      <th>audience_country</th>\n",
       "      <th>authentic_engagement</th>\n",
       "    </tr>\n",
       "  </thead>\n",
       "  <tbody>\n",
       "    <tr>\n",
       "      <th>0</th>\n",
       "      <td>0.322581</td>\n",
       "      <td>All</td>\n",
       "      <td>0.322581</td>\n",
       "      <td>cristiano</td>\n",
       "      <td>Cristiano Ronaldo</td>\n",
       "      <td>https://www.instagram.com/cristiano/</td>\n",
       "      <td>Sports with a ball</td>\n",
       "      <td>0.322581</td>\n",
       "      <td>India</td>\n",
       "      <td>0.322581</td>\n",
       "    </tr>\n",
       "    <tr>\n",
       "      <th>1</th>\n",
       "      <td>7.741935</td>\n",
       "      <td>All</td>\n",
       "      <td>7.741935</td>\n",
       "      <td>kyliejenner</td>\n",
       "      <td>Kylie 🤍</td>\n",
       "      <td>https://www.instagram.com/kyliejenner/</td>\n",
       "      <td>Fashion|Modeling|Beauty</td>\n",
       "      <td>7.741935</td>\n",
       "      <td>United States</td>\n",
       "      <td>7.741935</td>\n",
       "    </tr>\n",
       "    <tr>\n",
       "      <th>2</th>\n",
       "      <td>51.935484</td>\n",
       "      <td>All</td>\n",
       "      <td>51.935484</td>\n",
       "      <td>leomessi</td>\n",
       "      <td>Leo Messi</td>\n",
       "      <td>https://www.instagram.com/leomessi/</td>\n",
       "      <td>Sports with a ball|Family</td>\n",
       "      <td>51.935484</td>\n",
       "      <td>Argentina</td>\n",
       "      <td>51.935484</td>\n",
       "    </tr>\n",
       "    <tr>\n",
       "      <th>3</th>\n",
       "      <td>0.322581</td>\n",
       "      <td>All</td>\n",
       "      <td>0.322581</td>\n",
       "      <td>kendalljenner</td>\n",
       "      <td>Kendall</td>\n",
       "      <td>https://www.instagram.com/kendalljenner/</td>\n",
       "      <td>Modeling|Fashion</td>\n",
       "      <td>0.322581</td>\n",
       "      <td>United States</td>\n",
       "      <td>0.322581</td>\n",
       "    </tr>\n",
       "    <tr>\n",
       "      <th>4</th>\n",
       "      <td>0.322581</td>\n",
       "      <td>All</td>\n",
       "      <td>0.322581</td>\n",
       "      <td>selenagomez</td>\n",
       "      <td>Selena Gomez</td>\n",
       "      <td>https://www.instagram.com/selenagomez/</td>\n",
       "      <td>Music|Lifestyle</td>\n",
       "      <td>0.322581</td>\n",
       "      <td>United States</td>\n",
       "      <td>0.322581</td>\n",
       "    </tr>\n",
       "    <tr>\n",
       "      <th>...</th>\n",
       "      <td>...</td>\n",
       "      <td>...</td>\n",
       "      <td>...</td>\n",
       "      <td>...</td>\n",
       "      <td>...</td>\n",
       "      <td>...</td>\n",
       "      <td>...</td>\n",
       "      <td>...</td>\n",
       "      <td>...</td>\n",
       "      <td>...</td>\n",
       "    </tr>\n",
       "    <tr>\n",
       "      <th>995</th>\n",
       "      <td>NaN</td>\n",
       "      <td>All</td>\n",
       "      <td>NaN</td>\n",
       "      <td>senoritasaeva</td>\n",
       "      <td>Dina Saeva</td>\n",
       "      <td>https://www.instagram.com/senoritasaeva/</td>\n",
       "      <td>Lifestyle|Music|Modeling</td>\n",
       "      <td>NaN</td>\n",
       "      <td>Russia</td>\n",
       "      <td>NaN</td>\n",
       "    </tr>\n",
       "    <tr>\n",
       "      <th>996</th>\n",
       "      <td>NaN</td>\n",
       "      <td>All</td>\n",
       "      <td>NaN</td>\n",
       "      <td>manuelneuer</td>\n",
       "      <td>Manuel Neuer</td>\n",
       "      <td>https://www.instagram.com/manuelneuer/</td>\n",
       "      <td>Sports with a ball</td>\n",
       "      <td>NaN</td>\n",
       "      <td>Germany</td>\n",
       "      <td>NaN</td>\n",
       "    </tr>\n",
       "    <tr>\n",
       "      <th>997</th>\n",
       "      <td>NaN</td>\n",
       "      <td>All</td>\n",
       "      <td>NaN</td>\n",
       "      <td>sahilkhan</td>\n",
       "      <td>India’s Youth &amp; Fitness IC⭕️N®</td>\n",
       "      <td>https://www.instagram.com/sahilkhan/</td>\n",
       "      <td>Fitness|Gym</td>\n",
       "      <td>NaN</td>\n",
       "      <td>India</td>\n",
       "      <td>NaN</td>\n",
       "    </tr>\n",
       "    <tr>\n",
       "      <th>998</th>\n",
       "      <td>NaN</td>\n",
       "      <td>All</td>\n",
       "      <td>NaN</td>\n",
       "      <td>mohanshakti</td>\n",
       "      <td>Shakti Mohan</td>\n",
       "      <td>https://www.instagram.com/mohanshakti/</td>\n",
       "      <td>Art|Artists|Cinema|Actors/actresses</td>\n",
       "      <td>NaN</td>\n",
       "      <td>India</td>\n",
       "      <td>NaN</td>\n",
       "    </tr>\n",
       "    <tr>\n",
       "      <th>999</th>\n",
       "      <td>NaN</td>\n",
       "      <td>All</td>\n",
       "      <td>NaN</td>\n",
       "      <td>eduincaz</td>\n",
       "      <td>Eduin Caz</td>\n",
       "      <td>https://www.instagram.com/eduincaz/</td>\n",
       "      <td>Lifestyle</td>\n",
       "      <td>NaN</td>\n",
       "      <td>Mexico</td>\n",
       "      <td>NaN</td>\n",
       "    </tr>\n",
       "  </tbody>\n",
       "</table>\n",
       "<p>1000 rows × 10 columns</p>\n",
       "</div>"
      ],
      "text/plain": [
       "     Unnamed: 0 country       rank        account  \\\n",
       "0      0.322581     All   0.322581      cristiano   \n",
       "1      7.741935     All   7.741935    kyliejenner   \n",
       "2     51.935484     All  51.935484       leomessi   \n",
       "3      0.322581     All   0.322581  kendalljenner   \n",
       "4      0.322581     All   0.322581    selenagomez   \n",
       "..          ...     ...        ...            ...   \n",
       "995         NaN     All        NaN  senoritasaeva   \n",
       "996         NaN     All        NaN    manuelneuer   \n",
       "997         NaN     All        NaN      sahilkhan   \n",
       "998         NaN     All        NaN    mohanshakti   \n",
       "999         NaN     All        NaN       eduincaz   \n",
       "\n",
       "                              title                                      link  \\\n",
       "0                 Cristiano Ronaldo      https://www.instagram.com/cristiano/   \n",
       "1                           Kylie 🤍    https://www.instagram.com/kyliejenner/   \n",
       "2                         Leo Messi       https://www.instagram.com/leomessi/   \n",
       "3                           Kendall  https://www.instagram.com/kendalljenner/   \n",
       "4                      Selena Gomez    https://www.instagram.com/selenagomez/   \n",
       "..                              ...                                       ...   \n",
       "995                      Dina Saeva  https://www.instagram.com/senoritasaeva/   \n",
       "996                    Manuel Neuer    https://www.instagram.com/manuelneuer/   \n",
       "997  India’s Youth & Fitness IC⭕️N®      https://www.instagram.com/sahilkhan/   \n",
       "998                    Shakti Mohan    https://www.instagram.com/mohanshakti/   \n",
       "999                       Eduin Caz       https://www.instagram.com/eduincaz/   \n",
       "\n",
       "                                category  followers audience_country  \\\n",
       "0                     Sports with a ball   0.322581            India   \n",
       "1                Fashion|Modeling|Beauty   7.741935    United States   \n",
       "2              Sports with a ball|Family  51.935484        Argentina   \n",
       "3                       Modeling|Fashion   0.322581    United States   \n",
       "4                        Music|Lifestyle   0.322581    United States   \n",
       "..                                   ...        ...              ...   \n",
       "995             Lifestyle|Music|Modeling        NaN           Russia   \n",
       "996                   Sports with a ball        NaN          Germany   \n",
       "997                          Fitness|Gym        NaN            India   \n",
       "998  Art|Artists|Cinema|Actors/actresses        NaN            India   \n",
       "999                            Lifestyle        NaN           Mexico   \n",
       "\n",
       "     authentic_engagement  \n",
       "0                0.322581  \n",
       "1                7.741935  \n",
       "2               51.935484  \n",
       "3                0.322581  \n",
       "4                0.322581  \n",
       "..                    ...  \n",
       "995                   NaN  \n",
       "996                   NaN  \n",
       "997                   NaN  \n",
       "998                   NaN  \n",
       "999                   NaN  \n",
       "\n",
       "[1000 rows x 10 columns]"
      ]
     },
     "execution_count": 23,
     "metadata": {},
     "output_type": "execute_result"
    }
   ],
   "source": [
    "columnas = df_nuevo.columns\n",
    "\n",
    "instagram2[columnas] = frecuencia_rel\n",
    "\n",
    "instagram2"
   ]
  },
  {
   "attachments": {},
   "cell_type": "markdown",
   "metadata": {},
   "source": [
    "Información de la frecuencia acumulada relativa."
   ]
  },
  {
   "attachments": {},
   "cell_type": "markdown",
   "metadata": {},
   "source": [
    "Conocemos la frecuencia acumulada relativa sumndo la frecuencia relativa que habíamos calculado anteriormente. Como podemos apreciar, nos da los mismos valores para todas las variables numéricas."
   ]
  },
  {
   "cell_type": "code",
   "execution_count": 29,
   "metadata": {},
   "outputs": [
    {
     "data": {
      "text/plain": [
       "Unnamed: 0              320.322581\n",
       "rank                    320.322581\n",
       "followers               320.322581\n",
       "authentic_engagement    320.322581\n",
       "dtype: float64"
      ]
     },
     "execution_count": 29,
     "metadata": {},
     "output_type": "execute_result"
    }
   ],
   "source": [
    "frec_acumulada = frecuencia_rel.sum()\n",
    "frec_acumulada"
   ]
  },
  {
   "attachments": {},
   "cell_type": "markdown",
   "metadata": {},
   "source": [
    "2 - Interpretación de los resultados:\n",
    "Ahora interpreta los resultados obtenidos de los diferentes estadísticos estudiados haciendo hincapié en aspectos interesantes de tus datos y explica lo mejor posible la naturaleza de los mismos."
   ]
  },
  {
   "attachments": {},
   "cell_type": "markdown",
   "metadata": {},
   "source": [
    "- Los ejercicios se han ido explicando durante su realización."
   ]
  }
 ],
 "metadata": {
  "kernelspec": {
   "display_name": "Python 3",
   "language": "python",
   "name": "python3"
  },
  "language_info": {
   "codemirror_mode": {
    "name": "ipython",
    "version": 3
   },
   "file_extension": ".py",
   "mimetype": "text/x-python",
   "name": "python",
   "nbconvert_exporter": "python",
   "pygments_lexer": "ipython3",
   "version": "3.10.9 (tags/v3.10.9:1dd9be6, Dec  6 2022, 20:01:21) [MSC v.1934 64 bit (AMD64)]"
  },
  "orig_nbformat": 4,
  "vscode": {
   "interpreter": {
    "hash": "74ce4e106c5f3fb5408a2b59926dbdd162e96cafe5f5c54fb66c999b373c7a81"
   }
  }
 },
 "nbformat": 4,
 "nbformat_minor": 2
}
